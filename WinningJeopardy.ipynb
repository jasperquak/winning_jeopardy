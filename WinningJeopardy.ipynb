{
 "cells": [
  {
   "cell_type": "markdown",
   "metadata": {},
   "source": [
    "# Preparing for Jeopardy"
   ]
  },
  {
   "cell_type": "markdown",
   "metadata": {},
   "source": [
    "Jeopardy is an American TV show in which participants answer questions to win money. It has been running for many years. Over multiple rounds, contestants can choose a category, and get a question from that category, where different questions have different dollar values. A more extensive description can be found [here](https://en.wikipedia.org/wiki/Jeopardy!#Gameplay).\n",
    "\n",
    "Imagine you want to participate in Jeopardy - and win. And you wonder yourself: how do I prepare for this? Is it just a matter of studying a lot? Or possibly, is there something to learn from questions from the past?\n",
    "\n",
    "A couple of years ago, someone crawled Jeopardy archives and [posted on Reddit](https://www.reddit.com/r/datasets/comments/1uyd0t/200000_jeopardy_questions_in_a_json_file/) a short article from which one can download a file with no less then 216,930 earlier Jeopardy questions, with answers and other data.\n",
    "\n",
    "In this notebook, we are going to explore if there is something to learn from Jeopardy history that will help you prepare. The notebook contains the following sections:\n",
    "1. Initial data exploration\n",
    "2. Data re-formatting  \n",
    "2.1 Columns \"Question\" and \"Answer\"    \n",
    "2.2 Column \"Value\"   \n",
    "2.3 Column \"Air Date\"\n",
    "3. Data analysis  \n",
    "3.1 Answer included in question  \n",
    "3.2 Repeated and popular terms  \n",
    "3.3 Terms used in high-value questions  \n",
    "4. Conclusions"
   ]
  },
  {
   "cell_type": "markdown",
   "metadata": {},
   "source": [
    "## 1. Initial data exploration\n",
    "\n",
    "Let's start with reading in the data (I took the .csv file) and explore it.  "
   ]
  },
  {
   "cell_type": "code",
   "execution_count": 1,
   "metadata": {},
   "outputs": [
    {
     "data": {
      "text/html": [
       "<div>\n",
       "<style scoped>\n",
       "    .dataframe tbody tr th:only-of-type {\n",
       "        vertical-align: middle;\n",
       "    }\n",
       "\n",
       "    .dataframe tbody tr th {\n",
       "        vertical-align: top;\n",
       "    }\n",
       "\n",
       "    .dataframe thead th {\n",
       "        text-align: right;\n",
       "    }\n",
       "</style>\n",
       "<table border=\"1\" class=\"dataframe\">\n",
       "  <thead>\n",
       "    <tr style=\"text-align: right;\">\n",
       "      <th></th>\n",
       "      <th>Show Number</th>\n",
       "      <th>Air Date</th>\n",
       "      <th>Round</th>\n",
       "      <th>Category</th>\n",
       "      <th>Value</th>\n",
       "      <th>Question</th>\n",
       "      <th>Answer</th>\n",
       "    </tr>\n",
       "  </thead>\n",
       "  <tbody>\n",
       "    <tr>\n",
       "      <td>0</td>\n",
       "      <td>4680</td>\n",
       "      <td>2004-12-31</td>\n",
       "      <td>Jeopardy!</td>\n",
       "      <td>HISTORY</td>\n",
       "      <td>$200</td>\n",
       "      <td>For the last 8 years of his life, Galileo was ...</td>\n",
       "      <td>Copernicus</td>\n",
       "    </tr>\n",
       "    <tr>\n",
       "      <td>1</td>\n",
       "      <td>4680</td>\n",
       "      <td>2004-12-31</td>\n",
       "      <td>Jeopardy!</td>\n",
       "      <td>ESPN's TOP 10 ALL-TIME ATHLETES</td>\n",
       "      <td>$200</td>\n",
       "      <td>No. 2: 1912 Olympian; football star at Carlisl...</td>\n",
       "      <td>Jim Thorpe</td>\n",
       "    </tr>\n",
       "    <tr>\n",
       "      <td>2</td>\n",
       "      <td>4680</td>\n",
       "      <td>2004-12-31</td>\n",
       "      <td>Jeopardy!</td>\n",
       "      <td>EVERYBODY TALKS ABOUT IT...</td>\n",
       "      <td>$200</td>\n",
       "      <td>The city of Yuma in this state has a record av...</td>\n",
       "      <td>Arizona</td>\n",
       "    </tr>\n",
       "    <tr>\n",
       "      <td>3</td>\n",
       "      <td>4680</td>\n",
       "      <td>2004-12-31</td>\n",
       "      <td>Jeopardy!</td>\n",
       "      <td>THE COMPANY LINE</td>\n",
       "      <td>$200</td>\n",
       "      <td>In 1963, live on \"The Art Linkletter Show\", th...</td>\n",
       "      <td>McDonald's</td>\n",
       "    </tr>\n",
       "    <tr>\n",
       "      <td>4</td>\n",
       "      <td>4680</td>\n",
       "      <td>2004-12-31</td>\n",
       "      <td>Jeopardy!</td>\n",
       "      <td>EPITAPHS &amp; TRIBUTES</td>\n",
       "      <td>$200</td>\n",
       "      <td>Signer of the Dec. of Indep., framer of the Co...</td>\n",
       "      <td>John Adams</td>\n",
       "    </tr>\n",
       "  </tbody>\n",
       "</table>\n",
       "</div>"
      ],
      "text/plain": [
       "   Show Number    Air Date      Round                         Category  Value  \\\n",
       "0         4680  2004-12-31  Jeopardy!                          HISTORY   $200   \n",
       "1         4680  2004-12-31  Jeopardy!  ESPN's TOP 10 ALL-TIME ATHLETES   $200   \n",
       "2         4680  2004-12-31  Jeopardy!      EVERYBODY TALKS ABOUT IT...   $200   \n",
       "3         4680  2004-12-31  Jeopardy!                 THE COMPANY LINE   $200   \n",
       "4         4680  2004-12-31  Jeopardy!              EPITAPHS & TRIBUTES   $200   \n",
       "\n",
       "                                            Question      Answer  \n",
       "0  For the last 8 years of his life, Galileo was ...  Copernicus  \n",
       "1  No. 2: 1912 Olympian; football star at Carlisl...  Jim Thorpe  \n",
       "2  The city of Yuma in this state has a record av...     Arizona  \n",
       "3  In 1963, live on \"The Art Linkletter Show\", th...  McDonald's  \n",
       "4  Signer of the Dec. of Indep., framer of the Co...  John Adams  "
      ]
     },
     "execution_count": 1,
     "metadata": {},
     "output_type": "execute_result"
    }
   ],
   "source": [
    "# Import pandas library \n",
    "import pandas as pd\n",
    "\n",
    "# Import the data into a dataframe\n",
    "jeopardy = pd.read_csv('JEOPARDY_CSV.csv')\n",
    "\n",
    "# Show some rows\n",
    "jeopardy.head(5)"
   ]
  },
  {
   "cell_type": "code",
   "execution_count": 2,
   "metadata": {},
   "outputs": [
    {
     "name": "stdout",
     "output_type": "stream",
     "text": [
      "<class 'pandas.core.frame.DataFrame'>\n",
      "RangeIndex: 216930 entries, 0 to 216929\n",
      "Data columns (total 7 columns):\n",
      "Show Number    216930 non-null int64\n",
      " Air Date      216930 non-null object\n",
      " Round         216930 non-null object\n",
      " Category      216930 non-null object\n",
      " Value         216930 non-null object\n",
      " Question      216930 non-null object\n",
      " Answer        216928 non-null object\n",
      "dtypes: int64(1), object(6)\n",
      "memory usage: 11.6+ MB\n"
     ]
    }
   ],
   "source": [
    "# Get column information\n",
    "jeopardy.info()"
   ]
  },
  {
   "cell_type": "code",
   "execution_count": 3,
   "metadata": {},
   "outputs": [
    {
     "data": {
      "text/plain": [
       "(216930, 7)"
      ]
     },
     "execution_count": 3,
     "metadata": {},
     "output_type": "execute_result"
    }
   ],
   "source": [
    "# Get the number of rows and columns\n",
    "jeopardy.shape"
   ]
  },
  {
   "cell_type": "markdown",
   "metadata": {},
   "source": [
    "Some column names appear to have leading spaces. That's inconvenient, so let's remove those."
   ]
  },
  {
   "cell_type": "code",
   "execution_count": 4,
   "metadata": {},
   "outputs": [
    {
     "name": "stdout",
     "output_type": "stream",
     "text": [
      "<class 'pandas.core.frame.DataFrame'>\n",
      "RangeIndex: 216930 entries, 0 to 216929\n",
      "Data columns (total 7 columns):\n",
      "Show Number    216930 non-null int64\n",
      "Air Date       216930 non-null object\n",
      "Round          216930 non-null object\n",
      "Category       216930 non-null object\n",
      "Value          216930 non-null object\n",
      "Question       216930 non-null object\n",
      "Answer         216928 non-null object\n",
      "dtypes: int64(1), object(6)\n",
      "memory usage: 11.6+ MB\n"
     ]
    }
   ],
   "source": [
    "# Remove the leading spaces from the column names\n",
    "jeopardy.columns = jeopardy.columns.str.strip()\n",
    "\n",
    "# Check the result\n",
    "jeopardy.info()"
   ]
  },
  {
   "cell_type": "code",
   "execution_count": 5,
   "metadata": {},
   "outputs": [
    {
     "data": {
      "text/plain": [
       "1984-09-10    48\n",
       "1984-09-11    50\n",
       "1984-09-12    51\n",
       "1984-09-13    53\n",
       "1984-09-14    54\n",
       "              ..\n",
       "2012-01-20    58\n",
       "2012-01-23    61\n",
       "2012-01-24    59\n",
       "2012-01-25    61\n",
       "2012-01-27    30\n",
       "Name: Air Date, Length: 3640, dtype: int64"
      ]
     },
     "execution_count": 5,
     "metadata": {},
     "output_type": "execute_result"
    }
   ],
   "source": [
    "# Check from when the questions originate \n",
    "jeopardy['Air Date'].value_counts().sort_index()"
   ]
  },
  {
   "cell_type": "code",
   "execution_count": 6,
   "metadata": {},
   "outputs": [
    {
     "data": {
      "text/html": [
       "<style  type=\"text/css\" >\n",
       "    #T_0fca34ee_f21b_11ec_89aa_b0fc3633607c th {\n",
       "          text-align: left;\n",
       "    }    #T_0fca34ee_f21b_11ec_89aa_b0fc3633607crow0_col0 {\n",
       "            text-align:  left;\n",
       "        }    #T_0fca34ee_f21b_11ec_89aa_b0fc3633607crow0_col1 {\n",
       "            text-align:  left;\n",
       "        }    #T_0fca34ee_f21b_11ec_89aa_b0fc3633607crow0_col2 {\n",
       "            text-align:  left;\n",
       "        }    #T_0fca34ee_f21b_11ec_89aa_b0fc3633607crow0_col3 {\n",
       "            text-align:  left;\n",
       "        }    #T_0fca34ee_f21b_11ec_89aa_b0fc3633607crow0_col4 {\n",
       "            text-align:  left;\n",
       "        }    #T_0fca34ee_f21b_11ec_89aa_b0fc3633607crow0_col5 {\n",
       "            text-align:  left;\n",
       "        }    #T_0fca34ee_f21b_11ec_89aa_b0fc3633607crow0_col6 {\n",
       "            text-align:  left;\n",
       "        }    #T_0fca34ee_f21b_11ec_89aa_b0fc3633607crow1_col0 {\n",
       "            text-align:  left;\n",
       "        }    #T_0fca34ee_f21b_11ec_89aa_b0fc3633607crow1_col1 {\n",
       "            text-align:  left;\n",
       "        }    #T_0fca34ee_f21b_11ec_89aa_b0fc3633607crow1_col2 {\n",
       "            text-align:  left;\n",
       "        }    #T_0fca34ee_f21b_11ec_89aa_b0fc3633607crow1_col3 {\n",
       "            text-align:  left;\n",
       "        }    #T_0fca34ee_f21b_11ec_89aa_b0fc3633607crow1_col4 {\n",
       "            text-align:  left;\n",
       "        }    #T_0fca34ee_f21b_11ec_89aa_b0fc3633607crow1_col5 {\n",
       "            text-align:  left;\n",
       "        }    #T_0fca34ee_f21b_11ec_89aa_b0fc3633607crow1_col6 {\n",
       "            text-align:  left;\n",
       "        }    #T_0fca34ee_f21b_11ec_89aa_b0fc3633607crow2_col0 {\n",
       "            text-align:  left;\n",
       "        }    #T_0fca34ee_f21b_11ec_89aa_b0fc3633607crow2_col1 {\n",
       "            text-align:  left;\n",
       "        }    #T_0fca34ee_f21b_11ec_89aa_b0fc3633607crow2_col2 {\n",
       "            text-align:  left;\n",
       "        }    #T_0fca34ee_f21b_11ec_89aa_b0fc3633607crow2_col3 {\n",
       "            text-align:  left;\n",
       "        }    #T_0fca34ee_f21b_11ec_89aa_b0fc3633607crow2_col4 {\n",
       "            text-align:  left;\n",
       "        }    #T_0fca34ee_f21b_11ec_89aa_b0fc3633607crow2_col5 {\n",
       "            text-align:  left;\n",
       "        }    #T_0fca34ee_f21b_11ec_89aa_b0fc3633607crow2_col6 {\n",
       "            text-align:  left;\n",
       "        }    #T_0fca34ee_f21b_11ec_89aa_b0fc3633607crow3_col0 {\n",
       "            text-align:  left;\n",
       "        }    #T_0fca34ee_f21b_11ec_89aa_b0fc3633607crow3_col1 {\n",
       "            text-align:  left;\n",
       "        }    #T_0fca34ee_f21b_11ec_89aa_b0fc3633607crow3_col2 {\n",
       "            text-align:  left;\n",
       "        }    #T_0fca34ee_f21b_11ec_89aa_b0fc3633607crow3_col3 {\n",
       "            text-align:  left;\n",
       "        }    #T_0fca34ee_f21b_11ec_89aa_b0fc3633607crow3_col4 {\n",
       "            text-align:  left;\n",
       "        }    #T_0fca34ee_f21b_11ec_89aa_b0fc3633607crow3_col5 {\n",
       "            text-align:  left;\n",
       "        }    #T_0fca34ee_f21b_11ec_89aa_b0fc3633607crow3_col6 {\n",
       "            text-align:  left;\n",
       "        }    #T_0fca34ee_f21b_11ec_89aa_b0fc3633607crow4_col0 {\n",
       "            text-align:  left;\n",
       "        }    #T_0fca34ee_f21b_11ec_89aa_b0fc3633607crow4_col1 {\n",
       "            text-align:  left;\n",
       "        }    #T_0fca34ee_f21b_11ec_89aa_b0fc3633607crow4_col2 {\n",
       "            text-align:  left;\n",
       "        }    #T_0fca34ee_f21b_11ec_89aa_b0fc3633607crow4_col3 {\n",
       "            text-align:  left;\n",
       "        }    #T_0fca34ee_f21b_11ec_89aa_b0fc3633607crow4_col4 {\n",
       "            text-align:  left;\n",
       "        }    #T_0fca34ee_f21b_11ec_89aa_b0fc3633607crow4_col5 {\n",
       "            text-align:  left;\n",
       "        }    #T_0fca34ee_f21b_11ec_89aa_b0fc3633607crow4_col6 {\n",
       "            text-align:  left;\n",
       "        }    #T_0fca34ee_f21b_11ec_89aa_b0fc3633607crow5_col0 {\n",
       "            text-align:  left;\n",
       "        }    #T_0fca34ee_f21b_11ec_89aa_b0fc3633607crow5_col1 {\n",
       "            text-align:  left;\n",
       "        }    #T_0fca34ee_f21b_11ec_89aa_b0fc3633607crow5_col2 {\n",
       "            text-align:  left;\n",
       "        }    #T_0fca34ee_f21b_11ec_89aa_b0fc3633607crow5_col3 {\n",
       "            text-align:  left;\n",
       "        }    #T_0fca34ee_f21b_11ec_89aa_b0fc3633607crow5_col4 {\n",
       "            text-align:  left;\n",
       "        }    #T_0fca34ee_f21b_11ec_89aa_b0fc3633607crow5_col5 {\n",
       "            text-align:  left;\n",
       "        }    #T_0fca34ee_f21b_11ec_89aa_b0fc3633607crow5_col6 {\n",
       "            text-align:  left;\n",
       "        }    #T_0fca34ee_f21b_11ec_89aa_b0fc3633607crow6_col0 {\n",
       "            text-align:  left;\n",
       "        }    #T_0fca34ee_f21b_11ec_89aa_b0fc3633607crow6_col1 {\n",
       "            text-align:  left;\n",
       "        }    #T_0fca34ee_f21b_11ec_89aa_b0fc3633607crow6_col2 {\n",
       "            text-align:  left;\n",
       "        }    #T_0fca34ee_f21b_11ec_89aa_b0fc3633607crow6_col3 {\n",
       "            text-align:  left;\n",
       "        }    #T_0fca34ee_f21b_11ec_89aa_b0fc3633607crow6_col4 {\n",
       "            text-align:  left;\n",
       "        }    #T_0fca34ee_f21b_11ec_89aa_b0fc3633607crow6_col5 {\n",
       "            text-align:  left;\n",
       "        }    #T_0fca34ee_f21b_11ec_89aa_b0fc3633607crow6_col6 {\n",
       "            text-align:  left;\n",
       "        }    #T_0fca34ee_f21b_11ec_89aa_b0fc3633607crow7_col0 {\n",
       "            text-align:  left;\n",
       "        }    #T_0fca34ee_f21b_11ec_89aa_b0fc3633607crow7_col1 {\n",
       "            text-align:  left;\n",
       "        }    #T_0fca34ee_f21b_11ec_89aa_b0fc3633607crow7_col2 {\n",
       "            text-align:  left;\n",
       "        }    #T_0fca34ee_f21b_11ec_89aa_b0fc3633607crow7_col3 {\n",
       "            text-align:  left;\n",
       "        }    #T_0fca34ee_f21b_11ec_89aa_b0fc3633607crow7_col4 {\n",
       "            text-align:  left;\n",
       "        }    #T_0fca34ee_f21b_11ec_89aa_b0fc3633607crow7_col5 {\n",
       "            text-align:  left;\n",
       "        }    #T_0fca34ee_f21b_11ec_89aa_b0fc3633607crow7_col6 {\n",
       "            text-align:  left;\n",
       "        }    #T_0fca34ee_f21b_11ec_89aa_b0fc3633607crow8_col0 {\n",
       "            text-align:  left;\n",
       "        }    #T_0fca34ee_f21b_11ec_89aa_b0fc3633607crow8_col1 {\n",
       "            text-align:  left;\n",
       "        }    #T_0fca34ee_f21b_11ec_89aa_b0fc3633607crow8_col2 {\n",
       "            text-align:  left;\n",
       "        }    #T_0fca34ee_f21b_11ec_89aa_b0fc3633607crow8_col3 {\n",
       "            text-align:  left;\n",
       "        }    #T_0fca34ee_f21b_11ec_89aa_b0fc3633607crow8_col4 {\n",
       "            text-align:  left;\n",
       "        }    #T_0fca34ee_f21b_11ec_89aa_b0fc3633607crow8_col5 {\n",
       "            text-align:  left;\n",
       "        }    #T_0fca34ee_f21b_11ec_89aa_b0fc3633607crow8_col6 {\n",
       "            text-align:  left;\n",
       "        }    #T_0fca34ee_f21b_11ec_89aa_b0fc3633607crow9_col0 {\n",
       "            text-align:  left;\n",
       "        }    #T_0fca34ee_f21b_11ec_89aa_b0fc3633607crow9_col1 {\n",
       "            text-align:  left;\n",
       "        }    #T_0fca34ee_f21b_11ec_89aa_b0fc3633607crow9_col2 {\n",
       "            text-align:  left;\n",
       "        }    #T_0fca34ee_f21b_11ec_89aa_b0fc3633607crow9_col3 {\n",
       "            text-align:  left;\n",
       "        }    #T_0fca34ee_f21b_11ec_89aa_b0fc3633607crow9_col4 {\n",
       "            text-align:  left;\n",
       "        }    #T_0fca34ee_f21b_11ec_89aa_b0fc3633607crow9_col5 {\n",
       "            text-align:  left;\n",
       "        }    #T_0fca34ee_f21b_11ec_89aa_b0fc3633607crow9_col6 {\n",
       "            text-align:  left;\n",
       "        }</style><table id=\"T_0fca34ee_f21b_11ec_89aa_b0fc3633607c\" ><thead>    <tr>        <th class=\"blank level0\" ></th>        <th class=\"col_heading level0 col0\" >Show Number</th>        <th class=\"col_heading level0 col1\" >Air Date</th>        <th class=\"col_heading level0 col2\" >Round</th>        <th class=\"col_heading level0 col3\" >Category</th>        <th class=\"col_heading level0 col4\" >Value</th>        <th class=\"col_heading level0 col5\" >Question</th>        <th class=\"col_heading level0 col6\" >Answer</th>    </tr></thead><tbody>\n",
       "                <tr>\n",
       "                        <th id=\"T_0fca34ee_f21b_11ec_89aa_b0fc3633607clevel0_row0\" class=\"row_heading level0 row0\" >0</th>\n",
       "                        <td id=\"T_0fca34ee_f21b_11ec_89aa_b0fc3633607crow0_col0\" class=\"data row0 col0\" >4680</td>\n",
       "                        <td id=\"T_0fca34ee_f21b_11ec_89aa_b0fc3633607crow0_col1\" class=\"data row0 col1\" >2004-12-31</td>\n",
       "                        <td id=\"T_0fca34ee_f21b_11ec_89aa_b0fc3633607crow0_col2\" class=\"data row0 col2\" >Jeopardy!</td>\n",
       "                        <td id=\"T_0fca34ee_f21b_11ec_89aa_b0fc3633607crow0_col3\" class=\"data row0 col3\" >HISTORY</td>\n",
       "                        <td id=\"T_0fca34ee_f21b_11ec_89aa_b0fc3633607crow0_col4\" class=\"data row0 col4\" >$200</td>\n",
       "                        <td id=\"T_0fca34ee_f21b_11ec_89aa_b0fc3633607crow0_col5\" class=\"data row0 col5\" >For the last 8 years of his life, Galileo was under house arrest for espousing this man's theory</td>\n",
       "                        <td id=\"T_0fca34ee_f21b_11ec_89aa_b0fc3633607crow0_col6\" class=\"data row0 col6\" >Copernicus</td>\n",
       "            </tr>\n",
       "            <tr>\n",
       "                        <th id=\"T_0fca34ee_f21b_11ec_89aa_b0fc3633607clevel0_row1\" class=\"row_heading level0 row1\" >1</th>\n",
       "                        <td id=\"T_0fca34ee_f21b_11ec_89aa_b0fc3633607crow1_col0\" class=\"data row1 col0\" >4680</td>\n",
       "                        <td id=\"T_0fca34ee_f21b_11ec_89aa_b0fc3633607crow1_col1\" class=\"data row1 col1\" >2004-12-31</td>\n",
       "                        <td id=\"T_0fca34ee_f21b_11ec_89aa_b0fc3633607crow1_col2\" class=\"data row1 col2\" >Jeopardy!</td>\n",
       "                        <td id=\"T_0fca34ee_f21b_11ec_89aa_b0fc3633607crow1_col3\" class=\"data row1 col3\" >ESPN's TOP 10 ALL-TIME ATHLETES</td>\n",
       "                        <td id=\"T_0fca34ee_f21b_11ec_89aa_b0fc3633607crow1_col4\" class=\"data row1 col4\" >$200</td>\n",
       "                        <td id=\"T_0fca34ee_f21b_11ec_89aa_b0fc3633607crow1_col5\" class=\"data row1 col5\" >No. 2: 1912 Olympian; football star at Carlisle Indian School; 6 MLB seasons with the Reds, Giants & Braves</td>\n",
       "                        <td id=\"T_0fca34ee_f21b_11ec_89aa_b0fc3633607crow1_col6\" class=\"data row1 col6\" >Jim Thorpe</td>\n",
       "            </tr>\n",
       "            <tr>\n",
       "                        <th id=\"T_0fca34ee_f21b_11ec_89aa_b0fc3633607clevel0_row2\" class=\"row_heading level0 row2\" >2</th>\n",
       "                        <td id=\"T_0fca34ee_f21b_11ec_89aa_b0fc3633607crow2_col0\" class=\"data row2 col0\" >4680</td>\n",
       "                        <td id=\"T_0fca34ee_f21b_11ec_89aa_b0fc3633607crow2_col1\" class=\"data row2 col1\" >2004-12-31</td>\n",
       "                        <td id=\"T_0fca34ee_f21b_11ec_89aa_b0fc3633607crow2_col2\" class=\"data row2 col2\" >Jeopardy!</td>\n",
       "                        <td id=\"T_0fca34ee_f21b_11ec_89aa_b0fc3633607crow2_col3\" class=\"data row2 col3\" >EVERYBODY TALKS ABOUT IT...</td>\n",
       "                        <td id=\"T_0fca34ee_f21b_11ec_89aa_b0fc3633607crow2_col4\" class=\"data row2 col4\" >$200</td>\n",
       "                        <td id=\"T_0fca34ee_f21b_11ec_89aa_b0fc3633607crow2_col5\" class=\"data row2 col5\" >The city of Yuma in this state has a record average of 4,055 hours of sunshine each year</td>\n",
       "                        <td id=\"T_0fca34ee_f21b_11ec_89aa_b0fc3633607crow2_col6\" class=\"data row2 col6\" >Arizona</td>\n",
       "            </tr>\n",
       "            <tr>\n",
       "                        <th id=\"T_0fca34ee_f21b_11ec_89aa_b0fc3633607clevel0_row3\" class=\"row_heading level0 row3\" >3</th>\n",
       "                        <td id=\"T_0fca34ee_f21b_11ec_89aa_b0fc3633607crow3_col0\" class=\"data row3 col0\" >4680</td>\n",
       "                        <td id=\"T_0fca34ee_f21b_11ec_89aa_b0fc3633607crow3_col1\" class=\"data row3 col1\" >2004-12-31</td>\n",
       "                        <td id=\"T_0fca34ee_f21b_11ec_89aa_b0fc3633607crow3_col2\" class=\"data row3 col2\" >Jeopardy!</td>\n",
       "                        <td id=\"T_0fca34ee_f21b_11ec_89aa_b0fc3633607crow3_col3\" class=\"data row3 col3\" >THE COMPANY LINE</td>\n",
       "                        <td id=\"T_0fca34ee_f21b_11ec_89aa_b0fc3633607crow3_col4\" class=\"data row3 col4\" >$200</td>\n",
       "                        <td id=\"T_0fca34ee_f21b_11ec_89aa_b0fc3633607crow3_col5\" class=\"data row3 col5\" >In 1963, live on \"The Art Linkletter Show\", this company served its billionth burger</td>\n",
       "                        <td id=\"T_0fca34ee_f21b_11ec_89aa_b0fc3633607crow3_col6\" class=\"data row3 col6\" >McDonald's</td>\n",
       "            </tr>\n",
       "            <tr>\n",
       "                        <th id=\"T_0fca34ee_f21b_11ec_89aa_b0fc3633607clevel0_row4\" class=\"row_heading level0 row4\" >4</th>\n",
       "                        <td id=\"T_0fca34ee_f21b_11ec_89aa_b0fc3633607crow4_col0\" class=\"data row4 col0\" >4680</td>\n",
       "                        <td id=\"T_0fca34ee_f21b_11ec_89aa_b0fc3633607crow4_col1\" class=\"data row4 col1\" >2004-12-31</td>\n",
       "                        <td id=\"T_0fca34ee_f21b_11ec_89aa_b0fc3633607crow4_col2\" class=\"data row4 col2\" >Jeopardy!</td>\n",
       "                        <td id=\"T_0fca34ee_f21b_11ec_89aa_b0fc3633607crow4_col3\" class=\"data row4 col3\" >EPITAPHS & TRIBUTES</td>\n",
       "                        <td id=\"T_0fca34ee_f21b_11ec_89aa_b0fc3633607crow4_col4\" class=\"data row4 col4\" >$200</td>\n",
       "                        <td id=\"T_0fca34ee_f21b_11ec_89aa_b0fc3633607crow4_col5\" class=\"data row4 col5\" >Signer of the Dec. of Indep., framer of the Constitution of Mass., second President of the United States</td>\n",
       "                        <td id=\"T_0fca34ee_f21b_11ec_89aa_b0fc3633607crow4_col6\" class=\"data row4 col6\" >John Adams</td>\n",
       "            </tr>\n",
       "            <tr>\n",
       "                        <th id=\"T_0fca34ee_f21b_11ec_89aa_b0fc3633607clevel0_row5\" class=\"row_heading level0 row5\" >5</th>\n",
       "                        <td id=\"T_0fca34ee_f21b_11ec_89aa_b0fc3633607crow5_col0\" class=\"data row5 col0\" >4680</td>\n",
       "                        <td id=\"T_0fca34ee_f21b_11ec_89aa_b0fc3633607crow5_col1\" class=\"data row5 col1\" >2004-12-31</td>\n",
       "                        <td id=\"T_0fca34ee_f21b_11ec_89aa_b0fc3633607crow5_col2\" class=\"data row5 col2\" >Jeopardy!</td>\n",
       "                        <td id=\"T_0fca34ee_f21b_11ec_89aa_b0fc3633607crow5_col3\" class=\"data row5 col3\" >3-LETTER WORDS</td>\n",
       "                        <td id=\"T_0fca34ee_f21b_11ec_89aa_b0fc3633607crow5_col4\" class=\"data row5 col4\" >$200</td>\n",
       "                        <td id=\"T_0fca34ee_f21b_11ec_89aa_b0fc3633607crow5_col5\" class=\"data row5 col5\" >In the title of an Aesop fable, this insect shared billing with a grasshopper</td>\n",
       "                        <td id=\"T_0fca34ee_f21b_11ec_89aa_b0fc3633607crow5_col6\" class=\"data row5 col6\" >the ant</td>\n",
       "            </tr>\n",
       "            <tr>\n",
       "                        <th id=\"T_0fca34ee_f21b_11ec_89aa_b0fc3633607clevel0_row6\" class=\"row_heading level0 row6\" >6</th>\n",
       "                        <td id=\"T_0fca34ee_f21b_11ec_89aa_b0fc3633607crow6_col0\" class=\"data row6 col0\" >4680</td>\n",
       "                        <td id=\"T_0fca34ee_f21b_11ec_89aa_b0fc3633607crow6_col1\" class=\"data row6 col1\" >2004-12-31</td>\n",
       "                        <td id=\"T_0fca34ee_f21b_11ec_89aa_b0fc3633607crow6_col2\" class=\"data row6 col2\" >Jeopardy!</td>\n",
       "                        <td id=\"T_0fca34ee_f21b_11ec_89aa_b0fc3633607crow6_col3\" class=\"data row6 col3\" >HISTORY</td>\n",
       "                        <td id=\"T_0fca34ee_f21b_11ec_89aa_b0fc3633607crow6_col4\" class=\"data row6 col4\" >$400</td>\n",
       "                        <td id=\"T_0fca34ee_f21b_11ec_89aa_b0fc3633607crow6_col5\" class=\"data row6 col5\" >Built in 312 B.C. to link Rome & the South of Italy, it's still in use today</td>\n",
       "                        <td id=\"T_0fca34ee_f21b_11ec_89aa_b0fc3633607crow6_col6\" class=\"data row6 col6\" >the Appian Way</td>\n",
       "            </tr>\n",
       "            <tr>\n",
       "                        <th id=\"T_0fca34ee_f21b_11ec_89aa_b0fc3633607clevel0_row7\" class=\"row_heading level0 row7\" >7</th>\n",
       "                        <td id=\"T_0fca34ee_f21b_11ec_89aa_b0fc3633607crow7_col0\" class=\"data row7 col0\" >4680</td>\n",
       "                        <td id=\"T_0fca34ee_f21b_11ec_89aa_b0fc3633607crow7_col1\" class=\"data row7 col1\" >2004-12-31</td>\n",
       "                        <td id=\"T_0fca34ee_f21b_11ec_89aa_b0fc3633607crow7_col2\" class=\"data row7 col2\" >Jeopardy!</td>\n",
       "                        <td id=\"T_0fca34ee_f21b_11ec_89aa_b0fc3633607crow7_col3\" class=\"data row7 col3\" >ESPN's TOP 10 ALL-TIME ATHLETES</td>\n",
       "                        <td id=\"T_0fca34ee_f21b_11ec_89aa_b0fc3633607crow7_col4\" class=\"data row7 col4\" >$400</td>\n",
       "                        <td id=\"T_0fca34ee_f21b_11ec_89aa_b0fc3633607crow7_col5\" class=\"data row7 col5\" >No. 8: 30 steals for the Birmingham Barons; 2,306 steals for the Bulls</td>\n",
       "                        <td id=\"T_0fca34ee_f21b_11ec_89aa_b0fc3633607crow7_col6\" class=\"data row7 col6\" >Michael Jordan</td>\n",
       "            </tr>\n",
       "            <tr>\n",
       "                        <th id=\"T_0fca34ee_f21b_11ec_89aa_b0fc3633607clevel0_row8\" class=\"row_heading level0 row8\" >8</th>\n",
       "                        <td id=\"T_0fca34ee_f21b_11ec_89aa_b0fc3633607crow8_col0\" class=\"data row8 col0\" >4680</td>\n",
       "                        <td id=\"T_0fca34ee_f21b_11ec_89aa_b0fc3633607crow8_col1\" class=\"data row8 col1\" >2004-12-31</td>\n",
       "                        <td id=\"T_0fca34ee_f21b_11ec_89aa_b0fc3633607crow8_col2\" class=\"data row8 col2\" >Jeopardy!</td>\n",
       "                        <td id=\"T_0fca34ee_f21b_11ec_89aa_b0fc3633607crow8_col3\" class=\"data row8 col3\" >EVERYBODY TALKS ABOUT IT...</td>\n",
       "                        <td id=\"T_0fca34ee_f21b_11ec_89aa_b0fc3633607crow8_col4\" class=\"data row8 col4\" >$400</td>\n",
       "                        <td id=\"T_0fca34ee_f21b_11ec_89aa_b0fc3633607crow8_col5\" class=\"data row8 col5\" >In the winter of 1971-72, a record 1,122 inches of snow fell at Rainier Paradise Ranger Station in this state</td>\n",
       "                        <td id=\"T_0fca34ee_f21b_11ec_89aa_b0fc3633607crow8_col6\" class=\"data row8 col6\" >Washington</td>\n",
       "            </tr>\n",
       "            <tr>\n",
       "                        <th id=\"T_0fca34ee_f21b_11ec_89aa_b0fc3633607clevel0_row9\" class=\"row_heading level0 row9\" >9</th>\n",
       "                        <td id=\"T_0fca34ee_f21b_11ec_89aa_b0fc3633607crow9_col0\" class=\"data row9 col0\" >4680</td>\n",
       "                        <td id=\"T_0fca34ee_f21b_11ec_89aa_b0fc3633607crow9_col1\" class=\"data row9 col1\" >2004-12-31</td>\n",
       "                        <td id=\"T_0fca34ee_f21b_11ec_89aa_b0fc3633607crow9_col2\" class=\"data row9 col2\" >Jeopardy!</td>\n",
       "                        <td id=\"T_0fca34ee_f21b_11ec_89aa_b0fc3633607crow9_col3\" class=\"data row9 col3\" >THE COMPANY LINE</td>\n",
       "                        <td id=\"T_0fca34ee_f21b_11ec_89aa_b0fc3633607crow9_col4\" class=\"data row9 col4\" >$400</td>\n",
       "                        <td id=\"T_0fca34ee_f21b_11ec_89aa_b0fc3633607crow9_col5\" class=\"data row9 col5\" >This housewares store was named for the packaging its merchandise came in & was first displayed on</td>\n",
       "                        <td id=\"T_0fca34ee_f21b_11ec_89aa_b0fc3633607crow9_col6\" class=\"data row9 col6\" >Crate & Barrel</td>\n",
       "            </tr>\n",
       "    </tbody></table>"
      ],
      "text/plain": [
       "<pandas.io.formats.style.Styler at 0x180382c4a48>"
      ]
     },
     "execution_count": 6,
     "metadata": {},
     "output_type": "execute_result"
    }
   ],
   "source": [
    "# Show a sample again with better layout\n",
    "\n",
    "# Avoid truncation\n",
    "pd.set_option('display.max_colwidth', -1)\n",
    "# Display with left alignment\n",
    "jeopardy.head(10).style.set_properties(**{'text-align': 'left'}).set_table_styles([ dict(selector='th', props=[('text-align', 'left')] ) ])"
   ]
  },
  {
   "cell_type": "code",
   "execution_count": 7,
   "metadata": {},
   "outputs": [
    {
     "name": "stdout",
     "output_type": "stream",
     "text": [
      "216930 questions dating from 1984-09-10 to 2012-01-27\n"
     ]
    }
   ],
   "source": [
    "# Summary of the questions that we have\n",
    "print(jeopardy.shape[0],'questions dating from', jeopardy['Air Date'].min(),'to', jeopardy['Air Date'].max())"
   ]
  },
  {
   "cell_type": "code",
   "execution_count": 8,
   "metadata": {},
   "outputs": [
    {
     "data": {
      "text/plain": [
       "Jeopardy!           107384\n",
       "Double Jeopardy!    105912\n",
       "Final Jeopardy!     3631  \n",
       "Tiebreaker          3     \n",
       "Name: Round, dtype: int64"
      ]
     },
     "execution_count": 8,
     "metadata": {},
     "output_type": "execute_result"
    }
   ],
   "source": [
    "# Check how many questions per round\n",
    "jeopardy['Round'].value_counts()"
   ]
  },
  {
   "cell_type": "markdown",
   "metadata": {},
   "source": [
    "So we have 216,930 questions from between 1984 and 2012. It looks like the data in the columns is pretty complete (almost no missing values, only 2 answers). Most columns took the format of an `object`.\n",
    "\n",
    "One somewhat surprising observation are the \"Questions\" and \"Answers\". From [a game-play description](https://en.wikipedia.org/wiki/Jeopardy!#Gameplay) I understood that participants do not so much get a \"question\" that they need to \"answer\", but rather get an \"answer\" for which they need to come up with the right \"question\". The sample above does not really show that. If someone is told \"Mc Donald's\", I can hardly imagine someone asking which fast food chain served its billionth burger live on The Art Linkletter Show in 1963.  \n",
    "\n",
    "I am not sure about the cause of this descrepancy between (my understanding of) Jeopardy game-play and the question-and-answer-archive. However, for the purpose of our study, it seems okay to just consider this \"questions\" with \"answers\".\n",
    "\n"
   ]
  },
  {
   "cell_type": "markdown",
   "metadata": {},
   "source": [
    "## 2. Data re-formatting\n",
    "\n",
    "For analysis purposes, it is helpful though to reformat and normalize parts of the data. That's what we will do in this section.\n",
    "\n",
    "\n",
    "### 2.1 Columns \"Question\" and \"Answer\"\n",
    "\n",
    "To be able to correctly count words (in `Question` and `Answer`):\n",
    "* remove interpunction\n",
    "* put everything in lowercase"
   ]
  },
  {
   "cell_type": "code",
   "execution_count": 9,
   "metadata": {},
   "outputs": [],
   "source": [
    "# Import re library to enable reformatting \n",
    "import re\n",
    "\n",
    "# Create a function that takes a string and returns it normalized (no interpunction, all lowercase)\n",
    "def normalize_string(input):\n",
    "    replaced_interpunction = re.sub(r'\\W', ' ', input).lower()\n",
    "    removed_spaces = re.sub(' +',' ', replaced_interpunction).strip()\n",
    "    return removed_spaces"
   ]
  },
  {
   "cell_type": "code",
   "execution_count": 10,
   "metadata": {},
   "outputs": [
    {
     "data": {
      "text/plain": [
       "'hello do do do 16 17 two2 and foo bar'"
      ]
     },
     "execution_count": 10,
     "metadata": {},
     "output_type": "execute_result"
    }
   ],
   "source": [
    "# Test function\n",
    "normalize_string('Hello!! Do DO dO  16:17 ?two2,and:FOO, bar?')"
   ]
  },
  {
   "cell_type": "markdown",
   "metadata": {},
   "source": [
    "Looks good. Let's apply this to columns `Question` and `Answer`. We'll add new columns with the result."
   ]
  },
  {
   "cell_type": "code",
   "execution_count": 11,
   "metadata": {},
   "outputs": [],
   "source": [
    "# Add 2 columns, with normalized versions of Question and Answer. (Offer a 'string versions' of the objects.)\n",
    "jeopardy['question_clean'] = jeopardy['Question'].astype('str').apply(normalize_string)\n",
    "jeopardy['answer_clean'] = jeopardy['Answer'].astype('str').apply(normalize_string)"
   ]
  },
  {
   "cell_type": "code",
   "execution_count": 12,
   "metadata": {},
   "outputs": [
    {
     "data": {
      "text/html": [
       "<div>\n",
       "<style scoped>\n",
       "    .dataframe tbody tr th:only-of-type {\n",
       "        vertical-align: middle;\n",
       "    }\n",
       "\n",
       "    .dataframe tbody tr th {\n",
       "        vertical-align: top;\n",
       "    }\n",
       "\n",
       "    .dataframe thead th {\n",
       "        text-align: right;\n",
       "    }\n",
       "</style>\n",
       "<table border=\"1\" class=\"dataframe\">\n",
       "  <thead>\n",
       "    <tr style=\"text-align: right;\">\n",
       "      <th></th>\n",
       "      <th>Show Number</th>\n",
       "      <th>Air Date</th>\n",
       "      <th>Round</th>\n",
       "      <th>Category</th>\n",
       "      <th>Value</th>\n",
       "      <th>Question</th>\n",
       "      <th>Answer</th>\n",
       "      <th>question_clean</th>\n",
       "      <th>answer_clean</th>\n",
       "    </tr>\n",
       "  </thead>\n",
       "  <tbody>\n",
       "    <tr>\n",
       "      <td>112079</td>\n",
       "      <td>3452</td>\n",
       "      <td>1999-09-14</td>\n",
       "      <td>Double Jeopardy!</td>\n",
       "      <td>SWEET 16</td>\n",
       "      <td>$1000</td>\n",
       "      <td>This king had a lot taken off the top January 21, 1793</td>\n",
       "      <td>Louis XVI</td>\n",
       "      <td>this king had a lot taken off the top january 21 1793</td>\n",
       "      <td>louis xvi</td>\n",
       "    </tr>\n",
       "    <tr>\n",
       "      <td>50465</td>\n",
       "      <td>3967</td>\n",
       "      <td>2001-11-27</td>\n",
       "      <td>Jeopardy!</td>\n",
       "      <td>MISS UNIVERSE</td>\n",
       "      <td>$800</td>\n",
       "      <td>Crowned in Cyprus in May 2000, Bombay U. grad Lara Dutta represented this country</td>\n",
       "      <td>India</td>\n",
       "      <td>crowned in cyprus in may 2000 bombay u grad lara dutta represented this country</td>\n",
       "      <td>india</td>\n",
       "    </tr>\n",
       "    <tr>\n",
       "      <td>71223</td>\n",
       "      <td>5920</td>\n",
       "      <td>2010-05-14</td>\n",
       "      <td>Double Jeopardy!</td>\n",
       "      <td>FAUX</td>\n",
       "      <td>$800</td>\n",
       "      <td>Nickname of Sam, leader of The Pharaohs, who sang \"Wolly Bully\"</td>\n",
       "      <td>\"The Sham\"</td>\n",
       "      <td>nickname of sam leader of the pharaohs who sang wolly bully</td>\n",
       "      <td>the sham</td>\n",
       "    </tr>\n",
       "    <tr>\n",
       "      <td>26234</td>\n",
       "      <td>2916</td>\n",
       "      <td>1997-04-14</td>\n",
       "      <td>Double Jeopardy!</td>\n",
       "      <td>FICTIONAL FEMALES</td>\n",
       "      <td>$800</td>\n",
       "      <td>Miranda, a young woman, appears in several of her works, including \"Pale Horse, Pale Rider\"</td>\n",
       "      <td>Katherine Anne Porter</td>\n",
       "      <td>miranda a young woman appears in several of her works including pale horse pale rider</td>\n",
       "      <td>katherine anne porter</td>\n",
       "    </tr>\n",
       "    <tr>\n",
       "      <td>86973</td>\n",
       "      <td>1295</td>\n",
       "      <td>1990-03-30</td>\n",
       "      <td>Jeopardy!</td>\n",
       "      <td>FAMOUS JOES &amp; JOSEPHS</td>\n",
       "      <td>$200</td>\n",
       "      <td>This Delaware senator chairs the Senate Judiciary Committee</td>\n",
       "      <td>Joseph Biden</td>\n",
       "      <td>this delaware senator chairs the senate judiciary committee</td>\n",
       "      <td>joseph biden</td>\n",
       "    </tr>\n",
       "    <tr>\n",
       "      <td>127358</td>\n",
       "      <td>5685</td>\n",
       "      <td>2009-05-01</td>\n",
       "      <td>Double Jeopardy!</td>\n",
       "      <td>BROWN</td>\n",
       "      <td>$800</td>\n",
       "      <td>Between 1960 &amp; 1986, he racked up 44 Top 40 hits, but no No. 1s</td>\n",
       "      <td>James Brown</td>\n",
       "      <td>between 1960 1986 he racked up 44 top 40 hits but no no 1s</td>\n",
       "      <td>james brown</td>\n",
       "    </tr>\n",
       "    <tr>\n",
       "      <td>148314</td>\n",
       "      <td>3810</td>\n",
       "      <td>2001-03-09</td>\n",
       "      <td>Jeopardy!</td>\n",
       "      <td>IN A MINUTE</td>\n",
       "      <td>$500</td>\n",
       "      <td>Under the slogan \"Real Estate for the Real World\", this company claims on average to buy or sell a home every minute</td>\n",
       "      <td>Century 21</td>\n",
       "      <td>under the slogan real estate for the real world this company claims on average to buy or sell a home every minute</td>\n",
       "      <td>century 21</td>\n",
       "    </tr>\n",
       "    <tr>\n",
       "      <td>115787</td>\n",
       "      <td>2883</td>\n",
       "      <td>1997-02-26</td>\n",
       "      <td>Double Jeopardy!</td>\n",
       "      <td>BLACK AMERICA</td>\n",
       "      <td>$1000</td>\n",
       "      <td>Ebony &amp; Jet are among the magazines launched by this publisher</td>\n",
       "      <td>John Johnson</td>\n",
       "      <td>ebony jet are among the magazines launched by this publisher</td>\n",
       "      <td>john johnson</td>\n",
       "    </tr>\n",
       "    <tr>\n",
       "      <td>118519</td>\n",
       "      <td>3472</td>\n",
       "      <td>1999-10-12</td>\n",
       "      <td>Jeopardy!</td>\n",
       "      <td>A LITTLE DICKENS</td>\n",
       "      <td>$500</td>\n",
       "      <td>It's no mystery why this work was Dickens' last; he didn't live to finish it</td>\n",
       "      <td>The Mystery of Edwin Drood</td>\n",
       "      <td>it s no mystery why this work was dickens last he didn t live to finish it</td>\n",
       "      <td>the mystery of edwin drood</td>\n",
       "    </tr>\n",
       "    <tr>\n",
       "      <td>193578</td>\n",
       "      <td>5447</td>\n",
       "      <td>2008-04-22</td>\n",
       "      <td>Jeopardy!</td>\n",
       "      <td>MELROSE PLACE</td>\n",
       "      <td>$400</td>\n",
       "      <td>Hey, nice to meet &lt;a href=\"http://www.j-archive.com/media/2008-04-22_J_08.jpg\" target=\"_blank\"&gt;this&lt;/a&gt; actress who played Jennifer Mancini in 1997; \"Charmed\", I'm sure</td>\n",
       "      <td>Alyssa Milano</td>\n",
       "      <td>hey nice to meet a href http www j archive com media 2008 04 22_j_08 jpg target _blank this a actress who played jennifer mancini in 1997 charmed i m sure</td>\n",
       "      <td>alyssa milano</td>\n",
       "    </tr>\n",
       "  </tbody>\n",
       "</table>\n",
       "</div>"
      ],
      "text/plain": [
       "        Show Number    Air Date             Round               Category  \\\n",
       "112079  3452         1999-09-14  Double Jeopardy!  SWEET 16                \n",
       "50465   3967         2001-11-27  Jeopardy!         MISS UNIVERSE           \n",
       "71223   5920         2010-05-14  Double Jeopardy!  FAUX                    \n",
       "26234   2916         1997-04-14  Double Jeopardy!  FICTIONAL FEMALES       \n",
       "86973   1295         1990-03-30  Jeopardy!         FAMOUS JOES & JOSEPHS   \n",
       "127358  5685         2009-05-01  Double Jeopardy!  BROWN                   \n",
       "148314  3810         2001-03-09  Jeopardy!         IN A MINUTE             \n",
       "115787  2883         1997-02-26  Double Jeopardy!  BLACK AMERICA           \n",
       "118519  3472         1999-10-12  Jeopardy!         A LITTLE DICKENS        \n",
       "193578  5447         2008-04-22  Jeopardy!         MELROSE PLACE           \n",
       "\n",
       "        Value  \\\n",
       "112079  $1000   \n",
       "50465   $800    \n",
       "71223   $800    \n",
       "26234   $800    \n",
       "86973   $200    \n",
       "127358  $800    \n",
       "148314  $500    \n",
       "115787  $1000   \n",
       "118519  $500    \n",
       "193578  $400    \n",
       "\n",
       "                                                                                                                                                                        Question  \\\n",
       "112079  This king had a lot taken off the top January 21, 1793                                                                                                                     \n",
       "50465   Crowned in Cyprus in May 2000, Bombay U. grad Lara Dutta represented this country                                                                                          \n",
       "71223   Nickname of Sam, leader of The Pharaohs, who sang \"Wolly Bully\"                                                                                                            \n",
       "26234   Miranda, a young woman, appears in several of her works, including \"Pale Horse, Pale Rider\"                                                                                \n",
       "86973   This Delaware senator chairs the Senate Judiciary Committee                                                                                                                \n",
       "127358  Between 1960 & 1986, he racked up 44 Top 40 hits, but no No. 1s                                                                                                            \n",
       "148314  Under the slogan \"Real Estate for the Real World\", this company claims on average to buy or sell a home every minute                                                       \n",
       "115787  Ebony & Jet are among the magazines launched by this publisher                                                                                                             \n",
       "118519  It's no mystery why this work was Dickens' last; he didn't live to finish it                                                                                               \n",
       "193578  Hey, nice to meet <a href=\"http://www.j-archive.com/media/2008-04-22_J_08.jpg\" target=\"_blank\">this</a> actress who played Jennifer Mancini in 1997; \"Charmed\", I'm sure   \n",
       "\n",
       "                            Answer  \\\n",
       "112079  Louis XVI                    \n",
       "50465   India                        \n",
       "71223   \"The Sham\"                   \n",
       "26234   Katherine Anne Porter        \n",
       "86973   Joseph Biden                 \n",
       "127358  James Brown                  \n",
       "148314  Century 21                   \n",
       "115787  John Johnson                 \n",
       "118519  The Mystery of Edwin Drood   \n",
       "193578  Alyssa Milano                \n",
       "\n",
       "                                                                                                                                                    question_clean  \\\n",
       "112079  this king had a lot taken off the top january 21 1793                                                                                                        \n",
       "50465   crowned in cyprus in may 2000 bombay u grad lara dutta represented this country                                                                              \n",
       "71223   nickname of sam leader of the pharaohs who sang wolly bully                                                                                                  \n",
       "26234   miranda a young woman appears in several of her works including pale horse pale rider                                                                        \n",
       "86973   this delaware senator chairs the senate judiciary committee                                                                                                  \n",
       "127358  between 1960 1986 he racked up 44 top 40 hits but no no 1s                                                                                                   \n",
       "148314  under the slogan real estate for the real world this company claims on average to buy or sell a home every minute                                            \n",
       "115787  ebony jet are among the magazines launched by this publisher                                                                                                 \n",
       "118519  it s no mystery why this work was dickens last he didn t live to finish it                                                                                   \n",
       "193578  hey nice to meet a href http www j archive com media 2008 04 22_j_08 jpg target _blank this a actress who played jennifer mancini in 1997 charmed i m sure   \n",
       "\n",
       "                      answer_clean  \n",
       "112079  louis xvi                   \n",
       "50465   india                       \n",
       "71223   the sham                    \n",
       "26234   katherine anne porter       \n",
       "86973   joseph biden                \n",
       "127358  james brown                 \n",
       "148314  century 21                  \n",
       "115787  john johnson                \n",
       "118519  the mystery of edwin drood  \n",
       "193578  alyssa milano               "
      ]
     },
     "execution_count": 12,
     "metadata": {},
     "output_type": "execute_result"
    }
   ],
   "source": [
    "# Show result on a random sample\n",
    "jeopardy.sample(10, random_state = 0)"
   ]
  },
  {
   "cell_type": "markdown",
   "metadata": {},
   "source": [
    "Looks good. The last one in the table shows there is some messy data, where a hyperlink to a picture was included in the data.\n",
    "\n",
    "We'll ignore that for now, but let's keep it in mind."
   ]
  },
  {
   "cell_type": "markdown",
   "metadata": {},
   "source": [
    "### 2.2 Column \"Value\"\n",
    "\n",
    "Next, we'll change column `Value` into a numeric field, to be able to manipulate it easier. In the samples so far we see entries like \\\\$200 and \\\\$1,800. Let's first check if there is more."
   ]
  },
  {
   "cell_type": "code",
   "execution_count": 1,
   "metadata": {},
   "outputs": [
    {
     "ename": "NameError",
     "evalue": "name 'jeopardy' is not defined",
     "output_type": "error",
     "traceback": [
      "\u001b[1;31m---------------------------------------------------------------------------\u001b[0m",
      "\u001b[1;31mNameError\u001b[0m                                 Traceback (most recent call last)",
      "\u001b[1;32m<ipython-input-1-fc6255b3f72e>\u001b[0m in \u001b[0;36m<module>\u001b[1;34m\u001b[0m\n\u001b[0;32m      1\u001b[0m \u001b[1;31m# Check which different values there are for field Value\u001b[0m\u001b[1;33m\u001b[0m\u001b[1;33m\u001b[0m\u001b[1;33m\u001b[0m\u001b[0m\n\u001b[1;32m----> 2\u001b[1;33m \u001b[0mjeopardy\u001b[0m\u001b[1;33m[\u001b[0m\u001b[1;34m'Value'\u001b[0m\u001b[1;33m]\u001b[0m\u001b[1;33m.\u001b[0m\u001b[0munique\u001b[0m\u001b[1;33m(\u001b[0m\u001b[1;33m)\u001b[0m\u001b[1;33m\u001b[0m\u001b[1;33m\u001b[0m\u001b[0m\n\u001b[0m",
      "\u001b[1;31mNameError\u001b[0m: name 'jeopardy' is not defined"
     ]
    }
   ],
   "source": [
    "# Check which different values there are for field Value\n",
    "jeopardy['Value'].unique()"
   ]
  },
  {
   "cell_type": "code",
   "execution_count": 14,
   "metadata": {},
   "outputs": [
    {
     "data": {
      "text/plain": [
       "3634"
      ]
     },
     "execution_count": 14,
     "metadata": {},
     "output_type": "execute_result"
    }
   ],
   "source": [
    "# Check the amount of 'None' values\n",
    "len(jeopardy[jeopardy['Value']=='None'])"
   ]
  },
  {
   "cell_type": "markdown",
   "metadata": {},
   "source": [
    "Not entirely sure what they are, but let's replace all 'None' values with 0. Convert everything else to a number."
   ]
  },
  {
   "cell_type": "code",
   "execution_count": 15,
   "metadata": {},
   "outputs": [],
   "source": [
    "# Create a function that takes a string as in Value column and returns a number\n",
    "def normalize_value(input):\n",
    "    if input == 'None':\n",
    "        output = 0\n",
    "    else:\n",
    "        keep_numbers = input.replace('$','').replace(',','')\n",
    "        output = int(keep_numbers)\n",
    "    #replaced_interpunction = re.sub(r'\\W', ' ', input).lower()\n",
    "    #removed_spaces = re.sub(' +',' ', replaced_interpunction).strip()\n",
    "    return output"
   ]
  },
  {
   "cell_type": "code",
   "execution_count": 16,
   "metadata": {},
   "outputs": [
    {
     "name": "stdout",
     "output_type": "stream",
     "text": [
      "0 200 1534 1734\n"
     ]
    }
   ],
   "source": [
    "# Test the function\n",
    "print (normalize_value('None'), normalize_value('$200'), normalize_value('$1,534'), normalize_value('$200')+normalize_value('$1,534'))"
   ]
  },
  {
   "cell_type": "markdown",
   "metadata": {},
   "source": [
    "Looks good. Let's apply this to column `Value`. We'll add a new column with the result."
   ]
  },
  {
   "cell_type": "code",
   "execution_count": 17,
   "metadata": {},
   "outputs": [],
   "source": [
    "# Add a column, with normalized versions of Value. (Offer a 'string version' of the object.)\n",
    "jeopardy['value_clean'] = jeopardy['Value'].astype('str').apply(normalize_value)"
   ]
  },
  {
   "cell_type": "code",
   "execution_count": 18,
   "metadata": {},
   "outputs": [
    {
     "name": "stdout",
     "output_type": "stream",
     "text": [
      "Total is: 160525700\n",
      "[0, 5, 20, 22, 50, 100, 200, 250, 300, 350, 367, 400, 500, 585, 600, 601, 700, 750, 796, 800, 900, 1000, 1020, 1100, 1111, 1183, 1200, 1203, 1246, 1263, 1300, 1347, 1400, 1407, 1492, 1500, 1512, 1534, 1600, 1700, 1777, 1800, 1801, 1809, 1810, 1900, 2000, 2001, 2021, 2100, 2127, 2200, 2222, 2300, 2344, 2400, 2500, 2547, 2600, 2700, 2746, 2800, 2811, 2900, 2990, 3000, 3100, 3150, 3200, 3201, 3300, 3389, 3400, 3499, 3500, 3599, 3600, 3700, 3800, 3900, 3989, 4000, 4008, 4100, 4200, 4238, 4300, 4400, 4500, 4600, 4637, 4700, 4800, 5000, 5001, 5100, 5200, 5201, 5400, 5401, 5500, 5600, 5700, 5800, 6000, 6100, 6200, 6300, 6400, 6435, 6600, 6700, 6800, 7000, 7200, 7400, 7500, 7600, 7800, 8000, 8200, 8400, 8500, 8600, 8700, 8800, 8917, 9000, 9200, 9500, 9800, 10000, 10400, 10800, 11000, 11200, 11600, 12000, 12400, 13000, 13200, 13800, 14000, 14200, 16400, 18000]\n"
     ]
    }
   ],
   "source": [
    "# Verification 1: check that all are numbers, by summing them\n",
    "print('Total is:', jeopardy['value_clean'].sum())\n",
    "# Verification 2: show all values\n",
    "print(sorted(jeopardy['value_clean'].unique()))"
   ]
  },
  {
   "cell_type": "markdown",
   "metadata": {},
   "source": [
    "Looks good."
   ]
  },
  {
   "cell_type": "markdown",
   "metadata": {},
   "source": [
    "### 2.3 Column \"Air Date\"\n",
    "\n",
    "Next, we'll turn `Air Date` into a date field, which is easier to analyze. We'll add a new column."
   ]
  },
  {
   "cell_type": "code",
   "execution_count": 19,
   "metadata": {},
   "outputs": [
    {
     "name": "stdout",
     "output_type": "stream",
     "text": [
      "<class 'pandas.core.frame.DataFrame'>\n",
      "RangeIndex: 216930 entries, 0 to 216929\n",
      "Data columns (total 11 columns):\n",
      "Show Number       216930 non-null int64\n",
      "Air Date          216930 non-null object\n",
      "Round             216930 non-null object\n",
      "Category          216930 non-null object\n",
      "Value             216930 non-null object\n",
      "Question          216930 non-null object\n",
      "Answer            216928 non-null object\n",
      "question_clean    216930 non-null object\n",
      "answer_clean      216930 non-null object\n",
      "value_clean       216930 non-null int64\n",
      "date_clean        216930 non-null datetime64[ns]\n",
      "dtypes: datetime64[ns](1), int64(2), object(8)\n",
      "memory usage: 18.2+ MB\n"
     ]
    }
   ],
   "source": [
    "# Add a column, with the airdate as date-time\n",
    "jeopardy['date_clean'] = pd.to_datetime(jeopardy['Air Date'], format = '%Y-%M-%d')\n",
    "# Check result\n",
    "jeopardy.info()"
   ]
  },
  {
   "cell_type": "code",
   "execution_count": 20,
   "metadata": {},
   "outputs": [
    {
     "data": {
      "text/html": [
       "<div>\n",
       "<style scoped>\n",
       "    .dataframe tbody tr th:only-of-type {\n",
       "        vertical-align: middle;\n",
       "    }\n",
       "\n",
       "    .dataframe tbody tr th {\n",
       "        vertical-align: top;\n",
       "    }\n",
       "\n",
       "    .dataframe thead th {\n",
       "        text-align: right;\n",
       "    }\n",
       "</style>\n",
       "<table border=\"1\" class=\"dataframe\">\n",
       "  <thead>\n",
       "    <tr style=\"text-align: right;\">\n",
       "      <th></th>\n",
       "      <th>Show Number</th>\n",
       "      <th>Air Date</th>\n",
       "      <th>Round</th>\n",
       "      <th>Category</th>\n",
       "      <th>Value</th>\n",
       "      <th>Question</th>\n",
       "      <th>Answer</th>\n",
       "      <th>question_clean</th>\n",
       "      <th>answer_clean</th>\n",
       "      <th>value_clean</th>\n",
       "      <th>date_clean</th>\n",
       "    </tr>\n",
       "  </thead>\n",
       "  <tbody>\n",
       "    <tr>\n",
       "      <td>0</td>\n",
       "      <td>4680</td>\n",
       "      <td>2004-12-31</td>\n",
       "      <td>Jeopardy!</td>\n",
       "      <td>HISTORY</td>\n",
       "      <td>$200</td>\n",
       "      <td>For the last 8 years of his life, Galileo was under house arrest for espousing this man's theory</td>\n",
       "      <td>Copernicus</td>\n",
       "      <td>for the last 8 years of his life galileo was under house arrest for espousing this man s theory</td>\n",
       "      <td>copernicus</td>\n",
       "      <td>200</td>\n",
       "      <td>2004-01-31 00:12:00</td>\n",
       "    </tr>\n",
       "    <tr>\n",
       "      <td>1</td>\n",
       "      <td>4680</td>\n",
       "      <td>2004-12-31</td>\n",
       "      <td>Jeopardy!</td>\n",
       "      <td>ESPN's TOP 10 ALL-TIME ATHLETES</td>\n",
       "      <td>$200</td>\n",
       "      <td>No. 2: 1912 Olympian; football star at Carlisle Indian School; 6 MLB seasons with the Reds, Giants &amp; Braves</td>\n",
       "      <td>Jim Thorpe</td>\n",
       "      <td>no 2 1912 olympian football star at carlisle indian school 6 mlb seasons with the reds giants braves</td>\n",
       "      <td>jim thorpe</td>\n",
       "      <td>200</td>\n",
       "      <td>2004-01-31 00:12:00</td>\n",
       "    </tr>\n",
       "  </tbody>\n",
       "</table>\n",
       "</div>"
      ],
      "text/plain": [
       "   Show Number    Air Date      Round                         Category Value  \\\n",
       "0  4680         2004-12-31  Jeopardy!  HISTORY                          $200   \n",
       "1  4680         2004-12-31  Jeopardy!  ESPN's TOP 10 ALL-TIME ATHLETES  $200   \n",
       "\n",
       "                                                                                                      Question  \\\n",
       "0  For the last 8 years of his life, Galileo was under house arrest for espousing this man's theory              \n",
       "1  No. 2: 1912 Olympian; football star at Carlisle Indian School; 6 MLB seasons with the Reds, Giants & Braves   \n",
       "\n",
       "       Answer  \\\n",
       "0  Copernicus   \n",
       "1  Jim Thorpe   \n",
       "\n",
       "                                                                                         question_clean  \\\n",
       "0  for the last 8 years of his life galileo was under house arrest for espousing this man s theory        \n",
       "1  no 2 1912 olympian football star at carlisle indian school 6 mlb seasons with the reds giants braves   \n",
       "\n",
       "  answer_clean  value_clean          date_clean  \n",
       "0  copernicus   200         2004-01-31 00:12:00  \n",
       "1  jim thorpe   200         2004-01-31 00:12:00  "
      ]
     },
     "execution_count": 20,
     "metadata": {},
     "output_type": "execute_result"
    }
   ],
   "source": [
    "# Check a sample\n",
    "jeopardy.head(2)"
   ]
  },
  {
   "cell_type": "markdown",
   "metadata": {},
   "source": [
    "Looks good."
   ]
  },
  {
   "cell_type": "markdown",
   "metadata": {},
   "source": [
    "## 3. Data analysis\n",
    "\n",
    "Now we have a set of data in an easy-to-analyze format we can start analysis.\n",
    "\n",
    "### 3.1 Answer included in question\n",
    "\n",
    "What may happen sometimes, is that the question already contains the answers, or parts of it. If that happens a lot, that may help you develop your strategy to win.\n",
    "\n",
    "We are going to analyze such overlap between questions and answers by calculating (for every question-with-answer) which fraction of words in the answer is also a word in the question. The words `the` and `a` will be excluded: they appear a lot, but are not meaningful for this analysis.\n"
   ]
  },
  {
   "cell_type": "code",
   "execution_count": 21,
   "metadata": {},
   "outputs": [],
   "source": [
    "# Create a function that takes a row of the dataframe as an input, and returns\n",
    "# how many times terms in answer_clean occur in question_clean\n",
    "def count_overlap(row):\n",
    "    # Split question and answer in individual words\n",
    "    split_answer = row['answer_clean'].split()\n",
    "    split_question = row['question_clean'].split()\n",
    "    # print(split_question) # commented out after verifying\n",
    "    \n",
    "    # Remove all occurrences of 'the' from the question (as this is not meaningful)\n",
    "    while 'the' in split_question:\n",
    "        split_question.remove('the')\n",
    "    # print(split_question) # commented out after verifying\n",
    "    \n",
    "    # Do the same for 'a' (added after seeing the result)\n",
    "    while 'a' in split_question:\n",
    "        split_question.remove('a')\n",
    "    # print(split_question) # commented out after verifying\n",
    "    \n",
    "    # Count how many words in the answer appear in the question, calculate the fraction\n",
    "    result = 0\n",
    "    match_count = 0\n",
    "    if len(split_answer) > 0:\n",
    "        for word in split_answer:\n",
    "            if word in split_question:\n",
    "                match_count +=1\n",
    "        # print ('match_count:', match_count) # commented out after verifying\n",
    "        # print ('answer length:',len(split_answer)) # commented out after verifying\n",
    "        result = match_count / len(split_answer)\n",
    "    \n",
    "    return result       \n",
    "    "
   ]
  },
  {
   "cell_type": "code",
   "execution_count": 22,
   "metadata": {},
   "outputs": [
    {
     "name": "stdout",
     "output_type": "stream",
     "text": [
      "it s no mystery why this work was dickens last he didn t live to finish it\n",
      "the mystery of edwin drood\n"
     ]
    },
    {
     "data": {
      "text/plain": [
       "0.2"
      ]
     },
     "execution_count": 22,
     "metadata": {},
     "output_type": "execute_result"
    }
   ],
   "source": [
    "# test an example that contains overlap\n",
    "test_row1 = jeopardy.iloc[118519]\n",
    "print(test_row1['question_clean'])\n",
    "print(test_row1['answer_clean'])\n",
    "count_overlap(test_row1)"
   ]
  },
  {
   "cell_type": "code",
   "execution_count": 23,
   "metadata": {},
   "outputs": [
    {
     "name": "stdout",
     "output_type": "stream",
     "text": [
      "no 8 30 steals for the birmingham barons 2 306 steals for the bulls\n",
      "michael jordan\n"
     ]
    },
    {
     "data": {
      "text/plain": [
       "0.0"
      ]
     },
     "execution_count": 23,
     "metadata": {},
     "output_type": "execute_result"
    }
   ],
   "source": [
    "# test an example having 'the' in the question multiple times\n",
    "# (This test tested whether all instances of 'the' were removed; after commenting out print this is not visible anymore)\n",
    "test_row2 = jeopardy.iloc[7]\n",
    "print(test_row2['question_clean'])\n",
    "print(test_row2['answer_clean'])\n",
    "count_overlap(test_row2)"
   ]
  },
  {
   "cell_type": "code",
   "execution_count": 24,
   "metadata": {},
   "outputs": [
    {
     "name": "stdout",
     "output_type": "stream",
     "text": [
      "in the title of an aesop fable this insect shared billing with a grasshopper\n",
      "the ant\n"
     ]
    },
    {
     "data": {
      "text/plain": [
       "0.0"
      ]
     },
     "execution_count": 24,
     "metadata": {},
     "output_type": "execute_result"
    }
   ],
   "source": [
    "# test an example where 'the' is in the overlap  question containing 'the' multiple times\n",
    "test_row2 = jeopardy.iloc[5]\n",
    "print(test_row2['question_clean'])\n",
    "print(test_row2['answer_clean'])\n",
    "count_overlap(test_row2)"
   ]
  },
  {
   "cell_type": "markdown",
   "metadata": {},
   "source": [
    "Looks good so far, so let's apply this to the dataframe (add a new column), and then check some more results.\n"
   ]
  },
  {
   "cell_type": "code",
   "execution_count": 25,
   "metadata": {},
   "outputs": [],
   "source": [
    "# Add a new column to include the indicator of overlap between question and answer\n",
    "jeopardy['answer_in_question'] = jeopardy.apply(count_overlap, axis = 1)"
   ]
  },
  {
   "cell_type": "code",
   "execution_count": 26,
   "metadata": {},
   "outputs": [
    {
     "data": {
      "text/plain": [
       "0.000000    195068\n",
       "0.500000    8179  \n",
       "0.333333    6437  \n",
       "0.250000    2435  \n",
       "1.000000    1237  \n",
       "0.200000    1151  \n",
       "0.666667    654   \n",
       "0.166667    467   \n",
       "0.400000    350   \n",
       "0.142857    210   \n",
       "0.285714    129   \n",
       "0.125000    118   \n",
       "0.750000    98    \n",
       "0.600000    73    \n",
       "0.111111    51    \n",
       "0.222222    40    \n",
       "0.428571    36    \n",
       "0.375000    28    \n",
       "0.100000    21    \n",
       "0.800000    20    \n",
       "0.571429    14    \n",
       "0.090909    12    \n",
       "0.714286    9     \n",
       "0.181818    9     \n",
       "0.300000    9     \n",
       "0.083333    8     \n",
       "0.153846    7     \n",
       "0.625000    7     \n",
       "0.833333    7     \n",
       "0.272727    5     \n",
       "0.555556    3     \n",
       "0.857143    3     \n",
       "0.444444    3     \n",
       "0.888889    2     \n",
       "0.076923    2     \n",
       "0.363636    2     \n",
       "0.066667    2     \n",
       "0.133333    2     \n",
       "0.545455    2     \n",
       "0.071429    2     \n",
       "0.117647    1     \n",
       "0.052632    1     \n",
       "0.769231    1     \n",
       "0.454545    1     \n",
       "0.583333    1     \n",
       "0.727273    1     \n",
       "0.384615    1     \n",
       "0.875000    1     \n",
       "0.909091    1     \n",
       "0.105263    1     \n",
       "0.818182    1     \n",
       "0.700000    1     \n",
       "0.642857    1     \n",
       "0.777778    1     \n",
       "0.095238    1     \n",
       "0.416667    1     \n",
       "0.230769    1     \n",
       "0.214286    1     \n",
       "Name: answer_in_question, dtype: int64"
      ]
     },
     "execution_count": 26,
     "metadata": {},
     "output_type": "execute_result"
    }
   ],
   "source": [
    "# See the outcome: fraction of words in the answer that is also in the question\n",
    "jeopardy['answer_in_question'].value_counts()"
   ]
  },
  {
   "cell_type": "code",
   "execution_count": 27,
   "metadata": {},
   "outputs": [
    {
     "data": {
      "text/html": [
       "<div>\n",
       "<style scoped>\n",
       "    .dataframe tbody tr th:only-of-type {\n",
       "        vertical-align: middle;\n",
       "    }\n",
       "\n",
       "    .dataframe tbody tr th {\n",
       "        vertical-align: top;\n",
       "    }\n",
       "\n",
       "    .dataframe thead th {\n",
       "        text-align: right;\n",
       "    }\n",
       "</style>\n",
       "<table border=\"1\" class=\"dataframe\">\n",
       "  <thead>\n",
       "    <tr style=\"text-align: right;\">\n",
       "      <th></th>\n",
       "      <th>Show Number</th>\n",
       "      <th>Air Date</th>\n",
       "      <th>Round</th>\n",
       "      <th>Category</th>\n",
       "      <th>Value</th>\n",
       "      <th>Question</th>\n",
       "      <th>Answer</th>\n",
       "      <th>question_clean</th>\n",
       "      <th>answer_clean</th>\n",
       "      <th>value_clean</th>\n",
       "      <th>date_clean</th>\n",
       "      <th>answer_in_question</th>\n",
       "    </tr>\n",
       "  </thead>\n",
       "  <tbody>\n",
       "    <tr>\n",
       "      <td>53</td>\n",
       "      <td>4680</td>\n",
       "      <td>2004-12-31</td>\n",
       "      <td>Double Jeopardy!</td>\n",
       "      <td>MUSICAL TRAINS</td>\n",
       "      <td>$2000</td>\n",
       "      <td>In 1961 James Brown announced \"all aboard\" for this train</td>\n",
       "      <td>\"Night Train\"</td>\n",
       "      <td>in 1961 james brown announced all aboard for this train</td>\n",
       "      <td>night train</td>\n",
       "      <td>2000</td>\n",
       "      <td>2004-01-31 00:12:00</td>\n",
       "      <td>0.5</td>\n",
       "    </tr>\n",
       "    <tr>\n",
       "      <td>68</td>\n",
       "      <td>5957</td>\n",
       "      <td>2010-07-06</td>\n",
       "      <td>Jeopardy!</td>\n",
       "      <td>GEOGRAPHY \"E\"</td>\n",
       "      <td>$600</td>\n",
       "      <td>This island in the South Pacific is named for the day of its discovery, a religious holiday</td>\n",
       "      <td>Easter Island</td>\n",
       "      <td>this island in the south pacific is named for the day of its discovery a religious holiday</td>\n",
       "      <td>easter island</td>\n",
       "      <td>600</td>\n",
       "      <td>2010-01-06 00:07:00</td>\n",
       "      <td>0.5</td>\n",
       "    </tr>\n",
       "    <tr>\n",
       "      <td>80</td>\n",
       "      <td>5957</td>\n",
       "      <td>2010-07-06</td>\n",
       "      <td>Jeopardy!</td>\n",
       "      <td>GEOGRAPHY \"E\"</td>\n",
       "      <td>$2,000</td>\n",
       "      <td>The family history you wrote for school might include entering the U.S. at this island in New York Bay</td>\n",
       "      <td>Ellis Island</td>\n",
       "      <td>the family history you wrote for school might include entering the u s at this island in new york bay</td>\n",
       "      <td>ellis island</td>\n",
       "      <td>2000</td>\n",
       "      <td>2010-01-06 00:07:00</td>\n",
       "      <td>0.5</td>\n",
       "    </tr>\n",
       "    <tr>\n",
       "      <td>83</td>\n",
       "      <td>5957</td>\n",
       "      <td>2010-07-06</td>\n",
       "      <td>Jeopardy!</td>\n",
       "      <td>BE FRUITFUL &amp; MULTIPLY</td>\n",
       "      <td>$1000</td>\n",
       "      <td>2 x 1,035</td>\n",
       "      <td>2,070</td>\n",
       "      <td>2 x 1 035</td>\n",
       "      <td>2 070</td>\n",
       "      <td>1000</td>\n",
       "      <td>2010-01-06 00:07:00</td>\n",
       "      <td>0.5</td>\n",
       "    </tr>\n",
       "    <tr>\n",
       "      <td>112</td>\n",
       "      <td>5957</td>\n",
       "      <td>2010-07-06</td>\n",
       "      <td>Double Jeopardy!</td>\n",
       "      <td>JUST THE FACTS</td>\n",
       "      <td>$2000</td>\n",
       "      <td>He's the older son of Prince Charles and the late Princess Diana</td>\n",
       "      <td>Prince William</td>\n",
       "      <td>he s the older son of prince charles and the late princess diana</td>\n",
       "      <td>prince william</td>\n",
       "      <td>2000</td>\n",
       "      <td>2010-01-06 00:07:00</td>\n",
       "      <td>0.5</td>\n",
       "    </tr>\n",
       "  </tbody>\n",
       "</table>\n",
       "</div>"
      ],
      "text/plain": [
       "     Show Number    Air Date             Round                Category  \\\n",
       "53   4680         2004-12-31  Double Jeopardy!  MUSICAL TRAINS           \n",
       "68   5957         2010-07-06  Jeopardy!         GEOGRAPHY \"E\"            \n",
       "80   5957         2010-07-06  Jeopardy!         GEOGRAPHY \"E\"            \n",
       "83   5957         2010-07-06  Jeopardy!         BE FRUITFUL & MULTIPLY   \n",
       "112  5957         2010-07-06  Double Jeopardy!  JUST THE FACTS           \n",
       "\n",
       "      Value  \\\n",
       "53   $2000    \n",
       "68   $600     \n",
       "80   $2,000   \n",
       "83   $1000    \n",
       "112  $2000    \n",
       "\n",
       "                                                                                                   Question  \\\n",
       "53   In 1961 James Brown announced \"all aboard\" for this train                                                \n",
       "68   This island in the South Pacific is named for the day of its discovery, a religious holiday              \n",
       "80   The family history you wrote for school might include entering the U.S. at this island in New York Bay   \n",
       "83   2 x 1,035                                                                                                \n",
       "112  He's the older son of Prince Charles and the late Princess Diana                                         \n",
       "\n",
       "             Answer  \\\n",
       "53   \"Night Train\"    \n",
       "68   Easter Island    \n",
       "80   Ellis Island     \n",
       "83   2,070            \n",
       "112  Prince William   \n",
       "\n",
       "                                                                                            question_clean  \\\n",
       "53   in 1961 james brown announced all aboard for this train                                                 \n",
       "68   this island in the south pacific is named for the day of its discovery a religious holiday              \n",
       "80   the family history you wrote for school might include entering the u s at this island in new york bay   \n",
       "83   2 x 1 035                                                                                               \n",
       "112  he s the older son of prince charles and the late princess diana                                        \n",
       "\n",
       "       answer_clean  value_clean          date_clean  answer_in_question  \n",
       "53   night train     2000        2004-01-31 00:12:00  0.5                 \n",
       "68   easter island   600         2010-01-06 00:07:00  0.5                 \n",
       "80   ellis island    2000        2010-01-06 00:07:00  0.5                 \n",
       "83   2 070           1000        2010-01-06 00:07:00  0.5                 \n",
       "112  prince william  2000        2010-01-06 00:07:00  0.5                 "
      ]
     },
     "execution_count": 27,
     "metadata": {},
     "output_type": "execute_result"
    }
   ],
   "source": [
    "# Check some samples with an overlap fraction of 0.5\n",
    "jeopardy[jeopardy['answer_in_question'] ==0.5].head(5)"
   ]
  },
  {
   "cell_type": "code",
   "execution_count": 28,
   "metadata": {},
   "outputs": [
    {
     "data": {
      "text/html": [
       "<div>\n",
       "<style scoped>\n",
       "    .dataframe tbody tr th:only-of-type {\n",
       "        vertical-align: middle;\n",
       "    }\n",
       "\n",
       "    .dataframe tbody tr th {\n",
       "        vertical-align: top;\n",
       "    }\n",
       "\n",
       "    .dataframe thead th {\n",
       "        text-align: right;\n",
       "    }\n",
       "</style>\n",
       "<table border=\"1\" class=\"dataframe\">\n",
       "  <thead>\n",
       "    <tr style=\"text-align: right;\">\n",
       "      <th></th>\n",
       "      <th>Show Number</th>\n",
       "      <th>Air Date</th>\n",
       "      <th>Round</th>\n",
       "      <th>Category</th>\n",
       "      <th>Value</th>\n",
       "      <th>Question</th>\n",
       "      <th>Answer</th>\n",
       "      <th>question_clean</th>\n",
       "      <th>answer_clean</th>\n",
       "      <th>value_clean</th>\n",
       "      <th>date_clean</th>\n",
       "      <th>answer_in_question</th>\n",
       "    </tr>\n",
       "  </thead>\n",
       "  <tbody>\n",
       "    <tr>\n",
       "      <td>8375</td>\n",
       "      <td>4787</td>\n",
       "      <td>2005-05-31</td>\n",
       "      <td>Jeopardy!</td>\n",
       "      <td>TALK LIKE A BRIT</td>\n",
       "      <td>$400</td>\n",
       "      <td>Of stay in bed, hit someone on the head or rub till it's red, what you do if you cosh</td>\n",
       "      <td>hit someone on the head</td>\n",
       "      <td>of stay in bed hit someone on the head or rub till it s red what you do if you cosh</td>\n",
       "      <td>hit someone on the head</td>\n",
       "      <td>400</td>\n",
       "      <td>2005-01-31 00:05:00</td>\n",
       "      <td>0.8</td>\n",
       "    </tr>\n",
       "    <tr>\n",
       "      <td>10975</td>\n",
       "      <td>4362</td>\n",
       "      <td>2003-07-15</td>\n",
       "      <td>Jeopardy!</td>\n",
       "      <td>STUPID ANSWERS</td>\n",
       "      <td>$1000</td>\n",
       "      <td>It's the state song of the state of Maine</td>\n",
       "      <td>\"The State of Maine Song\"</td>\n",
       "      <td>it s the state song of the state of maine</td>\n",
       "      <td>the state of maine song</td>\n",
       "      <td>1000</td>\n",
       "      <td>2003-01-15 00:07:00</td>\n",
       "      <td>0.8</td>\n",
       "    </tr>\n",
       "    <tr>\n",
       "      <td>15184</td>\n",
       "      <td>3340</td>\n",
       "      <td>1999-02-26</td>\n",
       "      <td>Double Jeopardy!</td>\n",
       "      <td>PUT 'EM IN ORDER</td>\n",
       "      <td>$200</td>\n",
       "      <td>Oscar Winners \"The English Patient\", \"Unforgiven\", \"Braveheart\"</td>\n",
       "      <td>Unforgiven, Braveheart, The English Patient</td>\n",
       "      <td>oscar winners the english patient unforgiven braveheart</td>\n",
       "      <td>unforgiven braveheart the english patient</td>\n",
       "      <td>200</td>\n",
       "      <td>1999-01-26 00:02:00</td>\n",
       "      <td>0.8</td>\n",
       "    </tr>\n",
       "    <tr>\n",
       "      <td>19375</td>\n",
       "      <td>6070</td>\n",
       "      <td>2011-01-21</td>\n",
       "      <td>Double Jeopardy!</td>\n",
       "      <td>JOB HUNTING</td>\n",
       "      <td>$1600</td>\n",
       "      <td>In a 60-year-old man age really takes its toll on the body, no matter which sport he works in</td>\n",
       "      <td>manager (in man age really)</td>\n",
       "      <td>in a 60 year old man age really takes its toll on the body no matter which sport he works in</td>\n",
       "      <td>manager in man age really</td>\n",
       "      <td>1600</td>\n",
       "      <td>2011-01-21 00:01:00</td>\n",
       "      <td>0.8</td>\n",
       "    </tr>\n",
       "    <tr>\n",
       "      <td>19644</td>\n",
       "      <td>4583</td>\n",
       "      <td>2004-07-07</td>\n",
       "      <td>Jeopardy!</td>\n",
       "      <td>WHAT'S THE NEXT LINE?</td>\n",
       "      <td>$800</td>\n",
       "      <td>\"Yes we have no bananas...\"</td>\n",
       "      <td>\"...We have no bananas today\"</td>\n",
       "      <td>yes we have no bananas</td>\n",
       "      <td>we have no bananas today</td>\n",
       "      <td>800</td>\n",
       "      <td>2004-01-07 00:07:00</td>\n",
       "      <td>0.8</td>\n",
       "    </tr>\n",
       "  </tbody>\n",
       "</table>\n",
       "</div>"
      ],
      "text/plain": [
       "       Show Number    Air Date             Round               Category  \\\n",
       "8375   4787         2005-05-31  Jeopardy!         TALK LIKE A BRIT        \n",
       "10975  4362         2003-07-15  Jeopardy!         STUPID ANSWERS          \n",
       "15184  3340         1999-02-26  Double Jeopardy!  PUT 'EM IN ORDER        \n",
       "19375  6070         2011-01-21  Double Jeopardy!  JOB HUNTING             \n",
       "19644  4583         2004-07-07  Jeopardy!         WHAT'S THE NEXT LINE?   \n",
       "\n",
       "       Value  \\\n",
       "8375   $400    \n",
       "10975  $1000   \n",
       "15184  $200    \n",
       "19375  $1600   \n",
       "19644  $800    \n",
       "\n",
       "                                                                                            Question  \\\n",
       "8375   Of stay in bed, hit someone on the head or rub till it's red, what you do if you cosh           \n",
       "10975  It's the state song of the state of Maine                                                       \n",
       "15184  Oscar Winners \"The English Patient\", \"Unforgiven\", \"Braveheart\"                                 \n",
       "19375  In a 60-year-old man age really takes its toll on the body, no matter which sport he works in   \n",
       "19644  \"Yes we have no bananas...\"                                                                     \n",
       "\n",
       "                                            Answer  \\\n",
       "8375   hit someone on the head                       \n",
       "10975  \"The State of Maine Song\"                     \n",
       "15184  Unforgiven, Braveheart, The English Patient   \n",
       "19375  manager (in man age really)                   \n",
       "19644  \"...We have no bananas today\"                 \n",
       "\n",
       "                                                                                     question_clean  \\\n",
       "8375   of stay in bed hit someone on the head or rub till it s red what you do if you cosh            \n",
       "10975  it s the state song of the state of maine                                                      \n",
       "15184  oscar winners the english patient unforgiven braveheart                                        \n",
       "19375  in a 60 year old man age really takes its toll on the body no matter which sport he works in   \n",
       "19644  yes we have no bananas                                                                         \n",
       "\n",
       "                                    answer_clean  value_clean  \\\n",
       "8375   hit someone on the head                    400           \n",
       "10975  the state of maine song                    1000          \n",
       "15184  unforgiven braveheart the english patient  200           \n",
       "19375  manager in man age really                  1600          \n",
       "19644  we have no bananas today                   800           \n",
       "\n",
       "               date_clean  answer_in_question  \n",
       "8375  2005-01-31 00:05:00  0.8                 \n",
       "10975 2003-01-15 00:07:00  0.8                 \n",
       "15184 1999-01-26 00:02:00  0.8                 \n",
       "19375 2011-01-21 00:01:00  0.8                 \n",
       "19644 2004-01-07 00:07:00  0.8                 "
      ]
     },
     "execution_count": 28,
     "metadata": {},
     "output_type": "execute_result"
    }
   ],
   "source": [
    "# Check some samples with an overlap fraction of 0.8\n",
    "jeopardy[jeopardy['answer_in_question'] ==0.8].head(5)"
   ]
  },
  {
   "cell_type": "code",
   "execution_count": 29,
   "metadata": {},
   "outputs": [
    {
     "data": {
      "text/html": [
       "<div>\n",
       "<style scoped>\n",
       "    .dataframe tbody tr th:only-of-type {\n",
       "        vertical-align: middle;\n",
       "    }\n",
       "\n",
       "    .dataframe tbody tr th {\n",
       "        vertical-align: top;\n",
       "    }\n",
       "\n",
       "    .dataframe thead th {\n",
       "        text-align: right;\n",
       "    }\n",
       "</style>\n",
       "<table border=\"1\" class=\"dataframe\">\n",
       "  <thead>\n",
       "    <tr style=\"text-align: right;\">\n",
       "      <th></th>\n",
       "      <th>Show Number</th>\n",
       "      <th>Air Date</th>\n",
       "      <th>Round</th>\n",
       "      <th>Category</th>\n",
       "      <th>Value</th>\n",
       "      <th>Question</th>\n",
       "      <th>Answer</th>\n",
       "      <th>question_clean</th>\n",
       "      <th>answer_clean</th>\n",
       "      <th>value_clean</th>\n",
       "      <th>date_clean</th>\n",
       "      <th>answer_in_question</th>\n",
       "    </tr>\n",
       "  </thead>\n",
       "  <tbody>\n",
       "    <tr>\n",
       "      <td>266</td>\n",
       "      <td>4931</td>\n",
       "      <td>2006-02-06</td>\n",
       "      <td>Double Jeopardy!</td>\n",
       "      <td>NOT A CURRENT NATIONAL CAPITAL</td>\n",
       "      <td>$400</td>\n",
       "      <td>Ljubljana, Bratislava, Barcelona</td>\n",
       "      <td>Barcelona</td>\n",
       "      <td>ljubljana bratislava barcelona</td>\n",
       "      <td>barcelona</td>\n",
       "      <td>400</td>\n",
       "      <td>2006-01-06 00:02:00</td>\n",
       "      <td>1.0</td>\n",
       "    </tr>\n",
       "    <tr>\n",
       "      <td>272</td>\n",
       "      <td>4931</td>\n",
       "      <td>2006-02-06</td>\n",
       "      <td>Double Jeopardy!</td>\n",
       "      <td>NOT A CURRENT NATIONAL CAPITAL</td>\n",
       "      <td>$800</td>\n",
       "      <td>Istanbul, Ottawa, Amman</td>\n",
       "      <td>Istanbul</td>\n",
       "      <td>istanbul ottawa amman</td>\n",
       "      <td>istanbul</td>\n",
       "      <td>800</td>\n",
       "      <td>2006-01-06 00:02:00</td>\n",
       "      <td>1.0</td>\n",
       "    </tr>\n",
       "    <tr>\n",
       "      <td>278</td>\n",
       "      <td>4931</td>\n",
       "      <td>2006-02-06</td>\n",
       "      <td>Double Jeopardy!</td>\n",
       "      <td>NOT A CURRENT NATIONAL CAPITAL</td>\n",
       "      <td>$1200</td>\n",
       "      <td>Sofia, Sarajevo, Saigon</td>\n",
       "      <td>Saigon</td>\n",
       "      <td>sofia sarajevo saigon</td>\n",
       "      <td>saigon</td>\n",
       "      <td>1200</td>\n",
       "      <td>2006-01-06 00:02:00</td>\n",
       "      <td>1.0</td>\n",
       "    </tr>\n",
       "    <tr>\n",
       "      <td>284</td>\n",
       "      <td>4931</td>\n",
       "      <td>2006-02-06</td>\n",
       "      <td>Double Jeopardy!</td>\n",
       "      <td>NOT A CURRENT NATIONAL CAPITAL</td>\n",
       "      <td>$1600</td>\n",
       "      <td>Bucharest, Bonn, Bern</td>\n",
       "      <td>Bonn</td>\n",
       "      <td>bucharest bonn bern</td>\n",
       "      <td>bonn</td>\n",
       "      <td>1600</td>\n",
       "      <td>2006-01-06 00:02:00</td>\n",
       "      <td>1.0</td>\n",
       "    </tr>\n",
       "    <tr>\n",
       "      <td>290</td>\n",
       "      <td>4931</td>\n",
       "      <td>2006-02-06</td>\n",
       "      <td>Double Jeopardy!</td>\n",
       "      <td>NOT A CURRENT NATIONAL CAPITAL</td>\n",
       "      <td>$2000</td>\n",
       "      <td>Belize City, Guatemala City, Panama City</td>\n",
       "      <td>Belize City</td>\n",
       "      <td>belize city guatemala city panama city</td>\n",
       "      <td>belize city</td>\n",
       "      <td>2000</td>\n",
       "      <td>2006-01-06 00:02:00</td>\n",
       "      <td>1.0</td>\n",
       "    </tr>\n",
       "  </tbody>\n",
       "</table>\n",
       "</div>"
      ],
      "text/plain": [
       "     Show Number    Air Date             Round  \\\n",
       "266  4931         2006-02-06  Double Jeopardy!   \n",
       "272  4931         2006-02-06  Double Jeopardy!   \n",
       "278  4931         2006-02-06  Double Jeopardy!   \n",
       "284  4931         2006-02-06  Double Jeopardy!   \n",
       "290  4931         2006-02-06  Double Jeopardy!   \n",
       "\n",
       "                           Category  Value  \\\n",
       "266  NOT A CURRENT NATIONAL CAPITAL  $400    \n",
       "272  NOT A CURRENT NATIONAL CAPITAL  $800    \n",
       "278  NOT A CURRENT NATIONAL CAPITAL  $1200   \n",
       "284  NOT A CURRENT NATIONAL CAPITAL  $1600   \n",
       "290  NOT A CURRENT NATIONAL CAPITAL  $2000   \n",
       "\n",
       "                                     Question       Answer  \\\n",
       "266  Ljubljana, Bratislava, Barcelona          Barcelona     \n",
       "272  Istanbul, Ottawa, Amman                   Istanbul      \n",
       "278  Sofia, Sarajevo, Saigon                   Saigon        \n",
       "284  Bucharest, Bonn, Bern                     Bonn          \n",
       "290  Belize City, Guatemala City, Panama City  Belize City   \n",
       "\n",
       "                             question_clean answer_clean  value_clean  \\\n",
       "266  ljubljana bratislava barcelona          barcelona    400           \n",
       "272  istanbul ottawa amman                   istanbul     800           \n",
       "278  sofia sarajevo saigon                   saigon       1200          \n",
       "284  bucharest bonn bern                     bonn         1600          \n",
       "290  belize city guatemala city panama city  belize city  2000          \n",
       "\n",
       "             date_clean  answer_in_question  \n",
       "266 2006-01-06 00:02:00  1.0                 \n",
       "272 2006-01-06 00:02:00  1.0                 \n",
       "278 2006-01-06 00:02:00  1.0                 \n",
       "284 2006-01-06 00:02:00  1.0                 \n",
       "290 2006-01-06 00:02:00  1.0                 "
      ]
     },
     "execution_count": 29,
     "metadata": {},
     "output_type": "execute_result"
    }
   ],
   "source": [
    "# Check some samples with an overlap fraction of 1.0\n",
    "jeopardy[jeopardy['answer_in_question'] ==1.0].head(5)"
   ]
  },
  {
   "cell_type": "code",
   "execution_count": 30,
   "metadata": {},
   "outputs": [
    {
     "data": {
      "text/plain": [
       "0.042752736697187994"
      ]
     },
     "execution_count": 30,
     "metadata": {},
     "output_type": "execute_result"
    }
   ],
   "source": [
    "# Calculate the mean of the overlap fraction\n",
    "jeopardy['answer_in_question'].mean()"
   ]
  },
  {
   "cell_type": "markdown",
   "metadata": {},
   "source": [
    "What we can observe:\n",
    "* for the vast majority of questions (195K out of 216K) there is no overlap at all: the answer does not appear in the question; and on average only 0.04 words of the answer were part of the question\n",
    "* then, when looking at examples with relatively much overlap, it's not going to be helpful; e.g. multiple choice questions where the answer is indeed part of the question; or the question asks 'which island' and the answer contains 'island'\n",
    "\n",
    "A strategy where you hope to find answers in the questions themselves is not going to help you whatsoever to win Jeopardy."
   ]
  },
  {
   "cell_type": "markdown",
   "metadata": {},
   "source": [
    "## 3.2 Repeated and popular terms\n",
    "\n",
    "Jeopardy has been running for many, many years. One may wonder till what extent the same questions are repeated.\n",
    "\n",
    "We are going to analyze, not by finding questions that are literally the same, but by analyzing for all questions which fraction of the words in those questions appeared in questions before as well. We will focus on longer terms (6 characters or more), as those are the termss that typically form the 'heart' of the question. Shorter words (not only 'the' and 'a', but also e.g. 'more' and 'each') that are repeated won't teach us a lot.  \n",
    "\n",
    "We'll on the fly also simply create an overview of the terms that appear most in the questions, including a count how many times. That could be interesting information as well."
   ]
  },
  {
   "cell_type": "code",
   "execution_count": 31,
   "metadata": {},
   "outputs": [],
   "source": [
    "# Iterate over the rows of the jeopardy dataframe, and calculates the fraction of terms (words longer than 5 characters)\n",
    "# that appeared in earlier questions as well. Store these values in a list.\n",
    "\n",
    "# On the fly, create a dictionary of all terms and their frequency over all questions.\n",
    "\n",
    "# Initate a list with the overlap_count, a set with all terms used, and a dictionary with all words used\n",
    "questions_overlap = []\n",
    "terms_used = set()\n",
    "terms_dictionary = {}\n",
    "\n",
    "# Iterare \n",
    "for i, row in jeopardy.iterrows():\n",
    "    split_question = row['question_clean'].split()\n",
    "    # print(split_question) # commented out after verifying\n",
    "    # Only keep the words 6 characters or longer \n",
    "    split_question = [word for word in split_question if len(word) >5]\n",
    "    # print(split_question) # commented out after verifying\n",
    "    \n",
    "    match_count = 0\n",
    "    \n",
    "    # Check for every term whether used before already. If so: increase counts. If not: add to set and dictionary.\n",
    "    for word in split_question:\n",
    "        if word in terms_used:\n",
    "            match_count += 1\n",
    "            terms_dictionary[word]+=1\n",
    "        else:\n",
    "            terms_dictionary[word] = 1\n",
    "        terms_used.add(word)\n",
    "    \n",
    "    # Calculate fraction \n",
    "    if len(split_question)>0:\n",
    "        fraction_used_before = match_count / len(split_question)\n",
    "    \n",
    "    # Append fraction to list\n",
    "    questions_overlap.append(fraction_used_before)"
   ]
  },
  {
   "cell_type": "code",
   "execution_count": 32,
   "metadata": {},
   "outputs": [],
   "source": [
    "# Add the calculated fractions (a list with the correct length and in correct sequence) as a new column to the datafame\n",
    "jeopardy['fraction_overlap_before'] = questions_overlap"
   ]
  },
  {
   "cell_type": "code",
   "execution_count": 33,
   "metadata": {},
   "outputs": [
    {
     "data": {
      "text/html": [
       "<div>\n",
       "<style scoped>\n",
       "    .dataframe tbody tr th:only-of-type {\n",
       "        vertical-align: middle;\n",
       "    }\n",
       "\n",
       "    .dataframe tbody tr th {\n",
       "        vertical-align: top;\n",
       "    }\n",
       "\n",
       "    .dataframe thead th {\n",
       "        text-align: right;\n",
       "    }\n",
       "</style>\n",
       "<table border=\"1\" class=\"dataframe\">\n",
       "  <thead>\n",
       "    <tr style=\"text-align: right;\">\n",
       "      <th></th>\n",
       "      <th>date_clean</th>\n",
       "      <th>question_clean</th>\n",
       "      <th>answer_clean</th>\n",
       "      <th>fraction_overlap_before</th>\n",
       "    </tr>\n",
       "  </thead>\n",
       "  <tbody>\n",
       "    <tr>\n",
       "      <td>0</td>\n",
       "      <td>2004-01-31 00:12:00</td>\n",
       "      <td>for the last 8 years of his life galileo was under house arrest for espousing this man s theory</td>\n",
       "      <td>copernicus</td>\n",
       "      <td>0.0</td>\n",
       "    </tr>\n",
       "    <tr>\n",
       "      <td>1</td>\n",
       "      <td>2004-01-31 00:12:00</td>\n",
       "      <td>no 2 1912 olympian football star at carlisle indian school 6 mlb seasons with the reds giants braves</td>\n",
       "      <td>jim thorpe</td>\n",
       "      <td>0.0</td>\n",
       "    </tr>\n",
       "    <tr>\n",
       "      <td>2</td>\n",
       "      <td>2004-01-31 00:12:00</td>\n",
       "      <td>the city of yuma in this state has a record average of 4 055 hours of sunshine each year</td>\n",
       "      <td>arizona</td>\n",
       "      <td>0.0</td>\n",
       "    </tr>\n",
       "    <tr>\n",
       "      <td>3</td>\n",
       "      <td>2004-01-31 00:12:00</td>\n",
       "      <td>in 1963 live on the art linkletter show this company served its billionth burger</td>\n",
       "      <td>mcdonald s</td>\n",
       "      <td>0.0</td>\n",
       "    </tr>\n",
       "    <tr>\n",
       "      <td>4</td>\n",
       "      <td>2004-01-31 00:12:00</td>\n",
       "      <td>signer of the dec of indep framer of the constitution of mass second president of the united states</td>\n",
       "      <td>john adams</td>\n",
       "      <td>0.0</td>\n",
       "    </tr>\n",
       "  </tbody>\n",
       "</table>\n",
       "</div>"
      ],
      "text/plain": [
       "           date_clean  \\\n",
       "0 2004-01-31 00:12:00   \n",
       "1 2004-01-31 00:12:00   \n",
       "2 2004-01-31 00:12:00   \n",
       "3 2004-01-31 00:12:00   \n",
       "4 2004-01-31 00:12:00   \n",
       "\n",
       "                                                                                         question_clean  \\\n",
       "0  for the last 8 years of his life galileo was under house arrest for espousing this man s theory        \n",
       "1  no 2 1912 olympian football star at carlisle indian school 6 mlb seasons with the reds giants braves   \n",
       "2  the city of yuma in this state has a record average of 4 055 hours of sunshine each year               \n",
       "3  in 1963 live on the art linkletter show this company served its billionth burger                       \n",
       "4  signer of the dec of indep framer of the constitution of mass second president of the united states    \n",
       "\n",
       "  answer_clean  fraction_overlap_before  \n",
       "0  copernicus   0.0                      \n",
       "1  jim thorpe   0.0                      \n",
       "2  arizona      0.0                      \n",
       "3  mcdonald s   0.0                      \n",
       "4  john adams   0.0                      "
      ]
     },
     "execution_count": 33,
     "metadata": {},
     "output_type": "execute_result"
    }
   ],
   "source": [
    "# Take a look at the final rows in the dataframe, where one would expect no overlap with earliers questions\n",
    "jeopardy[['date_clean','question_clean','answer_clean','fraction_overlap_before']].head(5)"
   ]
  },
  {
   "cell_type": "code",
   "execution_count": 34,
   "metadata": {},
   "outputs": [
    {
     "data": {
      "text/html": [
       "<div>\n",
       "<style scoped>\n",
       "    .dataframe tbody tr th:only-of-type {\n",
       "        vertical-align: middle;\n",
       "    }\n",
       "\n",
       "    .dataframe tbody tr th {\n",
       "        vertical-align: top;\n",
       "    }\n",
       "\n",
       "    .dataframe thead th {\n",
       "        text-align: right;\n",
       "    }\n",
       "</style>\n",
       "<table border=\"1\" class=\"dataframe\">\n",
       "  <thead>\n",
       "    <tr style=\"text-align: right;\">\n",
       "      <th></th>\n",
       "      <th>date_clean</th>\n",
       "      <th>question_clean</th>\n",
       "      <th>answer_clean</th>\n",
       "      <th>fraction_overlap_before</th>\n",
       "    </tr>\n",
       "  </thead>\n",
       "  <tbody>\n",
       "    <tr>\n",
       "      <td>216910</td>\n",
       "      <td>2006-01-11 00:05:00</td>\n",
       "      <td>in his prime this athlete said it s hard to be humble when you re as great as i am</td>\n",
       "      <td>muhammad ali</td>\n",
       "      <td>1.000000</td>\n",
       "    </tr>\n",
       "    <tr>\n",
       "      <td>216911</td>\n",
       "      <td>2006-01-11 00:05:00</td>\n",
       "      <td>it s home to the holmenkollen ski jump</td>\n",
       "      <td>oslo</td>\n",
       "      <td>1.000000</td>\n",
       "    </tr>\n",
       "    <tr>\n",
       "      <td>216912</td>\n",
       "      <td>2006-01-11 00:05:00</td>\n",
       "      <td>we d like to enlighten you about the musical sidd it s based on this novel</td>\n",
       "      <td>siddhartha</td>\n",
       "      <td>0.500000</td>\n",
       "    </tr>\n",
       "    <tr>\n",
       "      <td>216913</td>\n",
       "      <td>2006-01-11 00:05:00</td>\n",
       "      <td>he created the musical riddles called the enigma variations</td>\n",
       "      <td>edward elgar</td>\n",
       "      <td>1.000000</td>\n",
       "    </tr>\n",
       "    <tr>\n",
       "      <td>216914</td>\n",
       "      <td>2006-01-11 00:05:00</td>\n",
       "      <td>one species of this bird breeds in the arctic tundra vacations at the other end of the globe</td>\n",
       "      <td>a tern</td>\n",
       "      <td>1.000000</td>\n",
       "    </tr>\n",
       "    <tr>\n",
       "      <td>216915</td>\n",
       "      <td>2006-01-11 00:05:00</td>\n",
       "      <td>in his teens he worked in an assistant d a s office later his perry mason character made fools of d a s</td>\n",
       "      <td>erle stanley gardner</td>\n",
       "      <td>1.000000</td>\n",
       "    </tr>\n",
       "    <tr>\n",
       "      <td>216916</td>\n",
       "      <td>2006-01-11 00:05:00</td>\n",
       "      <td>oscar wilde called this 4 letter word the curse of the drinking classes</td>\n",
       "      <td>work</td>\n",
       "      <td>1.000000</td>\n",
       "    </tr>\n",
       "    <tr>\n",
       "      <td>216917</td>\n",
       "      <td>2006-01-11 00:05:00</td>\n",
       "      <td>guyanese capital named for a hanoverian monarch</td>\n",
       "      <td>georgetown</td>\n",
       "      <td>1.000000</td>\n",
       "    </tr>\n",
       "    <tr>\n",
       "      <td>216918</td>\n",
       "      <td>2006-01-11 00:05:00</td>\n",
       "      <td>a naughty 18th c novel originally titled memoirs of a woman of pleasure inspired the 2006 musical named for her</td>\n",
       "      <td>fanny hill</td>\n",
       "      <td>1.000000</td>\n",
       "    </tr>\n",
       "    <tr>\n",
       "      <td>216919</td>\n",
       "      <td>2006-01-11 00:05:00</td>\n",
       "      <td>if this riddling belgian surrealist painter born 1898 worked for jeopardy he might write this is not a clue</td>\n",
       "      <td>magritte</td>\n",
       "      <td>0.833333</td>\n",
       "    </tr>\n",
       "    <tr>\n",
       "      <td>216920</td>\n",
       "      <td>2006-01-11 00:05:00</td>\n",
       "      <td>nightingales robins belong to this family of melodious songbirds</td>\n",
       "      <td>thrushes</td>\n",
       "      <td>0.833333</td>\n",
       "    </tr>\n",
       "    <tr>\n",
       "      <td>216921</td>\n",
       "      <td>2006-01-11 00:05:00</td>\n",
       "      <td>her hotsy totsy diaries trace back to one she began as an 11 year old aboard ship in 1914</td>\n",
       "      <td>anaïs nin</td>\n",
       "      <td>1.000000</td>\n",
       "    </tr>\n",
       "    <tr>\n",
       "      <td>216922</td>\n",
       "      <td>2006-01-11 00:05:00</td>\n",
       "      <td>a motto of hers was in politics if you want anything said ask a man if you want anything done ask a woman</td>\n",
       "      <td>margaret thatcher</td>\n",
       "      <td>1.000000</td>\n",
       "    </tr>\n",
       "    <tr>\n",
       "      <td>216923</td>\n",
       "      <td>2006-01-11 00:05:00</td>\n",
       "      <td>it s on the suriname river</td>\n",
       "      <td>paramaribo</td>\n",
       "      <td>1.000000</td>\n",
       "    </tr>\n",
       "    <tr>\n",
       "      <td>216924</td>\n",
       "      <td>2006-01-11 00:05:00</td>\n",
       "      <td>in 2006 the cast of this long running hit embarked on a href http www j archive com media 2006 05 11_dj_26 wmv an exuberant noisy campaign a to clean up new york city</td>\n",
       "      <td>stomp</td>\n",
       "      <td>1.000000</td>\n",
       "    </tr>\n",
       "    <tr>\n",
       "      <td>216925</td>\n",
       "      <td>2006-01-11 00:05:00</td>\n",
       "      <td>this puccini opera turns on the solution to 3 riddles posed by the heroine</td>\n",
       "      <td>turandot</td>\n",
       "      <td>1.000000</td>\n",
       "    </tr>\n",
       "    <tr>\n",
       "      <td>216926</td>\n",
       "      <td>2006-01-11 00:05:00</td>\n",
       "      <td>in north america this term is properly applied to only 4 species that are crested including the tufted</td>\n",
       "      <td>a titmouse</td>\n",
       "      <td>1.000000</td>\n",
       "    </tr>\n",
       "    <tr>\n",
       "      <td>216927</td>\n",
       "      <td>2006-01-11 00:05:00</td>\n",
       "      <td>in penny lane where this hellraiser grew up the barber shaves another customer then flays him alive</td>\n",
       "      <td>clive barker</td>\n",
       "      <td>1.000000</td>\n",
       "    </tr>\n",
       "    <tr>\n",
       "      <td>216928</td>\n",
       "      <td>2006-01-11 00:05:00</td>\n",
       "      <td>from ft sill okla he made the plea arizona is my land my home my father s land to which i now ask to return</td>\n",
       "      <td>geronimo</td>\n",
       "      <td>1.000000</td>\n",
       "    </tr>\n",
       "    <tr>\n",
       "      <td>216929</td>\n",
       "      <td>2006-01-11 00:05:00</td>\n",
       "      <td>a silent movie title includes the last name of this 18th c statesman favorite of catherine the great</td>\n",
       "      <td>grigori alexandrovich potemkin</td>\n",
       "      <td>1.000000</td>\n",
       "    </tr>\n",
       "  </tbody>\n",
       "</table>\n",
       "</div>"
      ],
      "text/plain": [
       "                date_clean  \\\n",
       "216910 2006-01-11 00:05:00   \n",
       "216911 2006-01-11 00:05:00   \n",
       "216912 2006-01-11 00:05:00   \n",
       "216913 2006-01-11 00:05:00   \n",
       "216914 2006-01-11 00:05:00   \n",
       "216915 2006-01-11 00:05:00   \n",
       "216916 2006-01-11 00:05:00   \n",
       "216917 2006-01-11 00:05:00   \n",
       "216918 2006-01-11 00:05:00   \n",
       "216919 2006-01-11 00:05:00   \n",
       "216920 2006-01-11 00:05:00   \n",
       "216921 2006-01-11 00:05:00   \n",
       "216922 2006-01-11 00:05:00   \n",
       "216923 2006-01-11 00:05:00   \n",
       "216924 2006-01-11 00:05:00   \n",
       "216925 2006-01-11 00:05:00   \n",
       "216926 2006-01-11 00:05:00   \n",
       "216927 2006-01-11 00:05:00   \n",
       "216928 2006-01-11 00:05:00   \n",
       "216929 2006-01-11 00:05:00   \n",
       "\n",
       "                                                                                                                                                                question_clean  \\\n",
       "216910  in his prime this athlete said it s hard to be humble when you re as great as i am                                                                                       \n",
       "216911  it s home to the holmenkollen ski jump                                                                                                                                   \n",
       "216912  we d like to enlighten you about the musical sidd it s based on this novel                                                                                               \n",
       "216913  he created the musical riddles called the enigma variations                                                                                                              \n",
       "216914  one species of this bird breeds in the arctic tundra vacations at the other end of the globe                                                                             \n",
       "216915  in his teens he worked in an assistant d a s office later his perry mason character made fools of d a s                                                                  \n",
       "216916  oscar wilde called this 4 letter word the curse of the drinking classes                                                                                                  \n",
       "216917  guyanese capital named for a hanoverian monarch                                                                                                                          \n",
       "216918  a naughty 18th c novel originally titled memoirs of a woman of pleasure inspired the 2006 musical named for her                                                          \n",
       "216919  if this riddling belgian surrealist painter born 1898 worked for jeopardy he might write this is not a clue                                                              \n",
       "216920  nightingales robins belong to this family of melodious songbirds                                                                                                         \n",
       "216921  her hotsy totsy diaries trace back to one she began as an 11 year old aboard ship in 1914                                                                                \n",
       "216922  a motto of hers was in politics if you want anything said ask a man if you want anything done ask a woman                                                                \n",
       "216923  it s on the suriname river                                                                                                                                               \n",
       "216924  in 2006 the cast of this long running hit embarked on a href http www j archive com media 2006 05 11_dj_26 wmv an exuberant noisy campaign a to clean up new york city   \n",
       "216925  this puccini opera turns on the solution to 3 riddles posed by the heroine                                                                                               \n",
       "216926  in north america this term is properly applied to only 4 species that are crested including the tufted                                                                   \n",
       "216927  in penny lane where this hellraiser grew up the barber shaves another customer then flays him alive                                                                      \n",
       "216928  from ft sill okla he made the plea arizona is my land my home my father s land to which i now ask to return                                                              \n",
       "216929  a silent movie title includes the last name of this 18th c statesman favorite of catherine the great                                                                     \n",
       "\n",
       "                          answer_clean  fraction_overlap_before  \n",
       "216910  muhammad ali                    1.000000                 \n",
       "216911  oslo                            1.000000                 \n",
       "216912  siddhartha                      0.500000                 \n",
       "216913  edward elgar                    1.000000                 \n",
       "216914  a tern                          1.000000                 \n",
       "216915  erle stanley gardner            1.000000                 \n",
       "216916  work                            1.000000                 \n",
       "216917  georgetown                      1.000000                 \n",
       "216918  fanny hill                      1.000000                 \n",
       "216919  magritte                        0.833333                 \n",
       "216920  thrushes                        0.833333                 \n",
       "216921  anaïs nin                       1.000000                 \n",
       "216922  margaret thatcher               1.000000                 \n",
       "216923  paramaribo                      1.000000                 \n",
       "216924  stomp                           1.000000                 \n",
       "216925  turandot                        1.000000                 \n",
       "216926  a titmouse                      1.000000                 \n",
       "216927  clive barker                    1.000000                 \n",
       "216928  geronimo                        1.000000                 \n",
       "216929  grigori alexandrovich potemkin  1.000000                 "
      ]
     },
     "execution_count": 34,
     "metadata": {},
     "output_type": "execute_result"
    }
   ],
   "source": [
    "# Take a look at the final rows in the dataframe, where one would expect no overlap with earliers questions\n",
    "jeopardy[['date_clean','question_clean','answer_clean','fraction_overlap_before']].tail(20)"
   ]
  },
  {
   "cell_type": "code",
   "execution_count": 35,
   "metadata": {},
   "outputs": [
    {
     "name": "stdout",
     "output_type": "stream",
     "text": [
      "1.000000    80\n",
      "0.800000    5 \n",
      "0.833333    3 \n",
      "0.875000    3 \n",
      "0.888889    2 \n",
      "0.400000    1 \n",
      "0.600000    1 \n",
      "0.666667    1 \n",
      "0.500000    1 \n",
      "0.857143    1 \n",
      "0.750000    1 \n",
      "0.000000    1 \n",
      "Name: fraction_overlap_before, dtype: int64\n"
     ]
    }
   ],
   "source": [
    "# Take a look at the fraction-overlap in the final 100 rows\n",
    "print(jeopardy.tail(100)['fraction_overlap_before'].value_counts())"
   ]
  },
  {
   "cell_type": "markdown",
   "metadata": {},
   "source": [
    "So it seems that almost all words have been used before.... (For what it's worth.)"
   ]
  },
  {
   "cell_type": "code",
   "execution_count": 36,
   "metadata": {
    "scrolled": true
   },
   "outputs": [
    {
     "data": {
      "text/plain": [
       "0.9225954554223076"
      ]
     },
     "execution_count": 36,
     "metadata": {},
     "output_type": "execute_result"
    }
   ],
   "source": [
    "# Calculate the mean value of this fraction-overlap \n",
    "import numpy as np\n",
    "np.mean(questions_overlap)"
   ]
  },
  {
   "cell_type": "markdown",
   "metadata": {},
   "source": [
    "So what we can observe is that most longer words that are used in questions, have been used before. Certainly for the later episodes. That is not so surprising, given that we have more than 20 years worth of questions.\n",
    "\n",
    "I am not convinced though that this piece of knowledge is going to help a lot.\n",
    "\n",
    "Possibly a more complex analysis could help:\n",
    "* rather than looking at individual words, look at combinations of words\n",
    "* don't look back to all history, but only to e.g. the last one or two years if there is any overlap\n",
    "\n",
    "These are complex analyses to do so, and I am not really convinced that it will give a lot of insight.\n",
    "\n",
    "What we can still do is just take some frequently used terms, and look at some questions that include those terms. Do we happen to see any overlap? For this, we can use the dictionary with word counts that we created. (Which is on overview that by itself can be interesting already.)\n"
   ]
  },
  {
   "cell_type": "code",
   "execution_count": 37,
   "metadata": {},
   "outputs": [
    {
     "name": "stdout",
     "output_type": "stream",
     "text": [
      "archive 12979\n",
      "target 10717\n",
      "_blank 10649\n",
      "country 6045\n",
      "called 5487\n",
      "president 3294\n",
      "american 3210\n",
      "became 3165\n",
      "played 3014\n",
      "before 2920\n",
      "capital 2883\n",
      "french 2576\n",
      "famous 2560\n",
      "island 2534\n",
      "people 2341\n",
      "letter 2318\n",
      "largest 2150\n",
      "company 2133\n",
      "author 2074\n",
      "during 2001\n",
      "national 1988\n",
      "british 1976\n",
      "century 1922\n",
      "character 1868\n",
      "little 1831\n",
      "around 1823\n",
      "between 1682\n",
      "series 1636\n",
      "family 1602\n",
      "meaning 1571\n",
      "founded 1546\n",
      "school 1423\n",
      "include 1409\n",
      "million 1377\n",
      "america 1350\n",
      "museum 1332\n",
      "university 1332\n",
      "number 1331\n",
      "popular 1322\n",
      "musical 1322\n",
      "english 1313\n",
      "because 1274\n",
      "second 1268\n",
      "classic 1268\n",
      "reports 1268\n",
      "through 1245\n",
      "father 1203\n",
      "person 1177\n",
      "george 1158\n",
      "german 1151\n",
      "general 1130\n",
      "england 1100\n",
      "leader 1095\n",
      "nation 1074\n",
      "created 1060\n",
      "italian 1046\n",
      "william 1034\n",
      "former 1032\n"
     ]
    }
   ],
   "source": [
    "# Create (and show) a dictionary with those terms that are used more than 1000 times in questions\n",
    "top_terms = {k:v for (k,v) in terms_dictionary.items() if v > 1000}\n",
    "\n",
    "for k in sorted(top_terms, key=top_terms.get, reverse=True):\n",
    "    print(k, top_terms[k])\n"
   ]
  },
  {
   "cell_type": "markdown",
   "metadata": {},
   "source": [
    "A lot of terms that are used more than 1000 times in questions (over the course of 20 years).\n",
    "\n",
    "The ones at the very top ('archive', 'target', and '\\_blank') are surprising actually.\n",
    "\n",
    "Let's go have a look at examples with some of some frequently-used terms.\n",
    "\n"
   ]
  },
  {
   "cell_type": "code",
   "execution_count": 38,
   "metadata": {},
   "outputs": [],
   "source": [
    "# Function to print examples of a term\n",
    "# It takes a term and a number n as its inputs\n",
    "# Then the first n questions containing the term will be printed\n",
    "\n",
    "def print_n_examples_for_term(term, n):\n",
    "    printed = 0\n",
    "    row_index = 0\n",
    "    while printed < n:\n",
    "        row = jeopardy.iloc[row_index]\n",
    "        split_question = row['question_clean'].split()\n",
    "        split_question = [word for word in split_question if len(word) >5]\n",
    "        # print(split_question) # commented out after verifying\n",
    "        if term in split_question:\n",
    "            print(row['Question'])\n",
    "            printed +=1\n",
    "        row_index +=1"
   ]
  },
  {
   "cell_type": "code",
   "execution_count": 39,
   "metadata": {},
   "outputs": [
    {
     "name": "stdout",
     "output_type": "stream",
     "text": [
      "For the last 8 years of his life, Galileo was under house arrest for espousing this man's theory\n",
      "The 4 largest moons of this planet are called Galilean satellites after Galileo, who saw them in 1610\n",
      "Galileo was the first person to see the rings around this planet\n"
     ]
    }
   ],
   "source": [
    "# Print for 'galileo' to test (as we know the first question in the dataframe contains Galileo)\n",
    "print_n_examples_for_term('galileo', 3)"
   ]
  },
  {
   "cell_type": "code",
   "execution_count": 40,
   "metadata": {},
   "outputs": [
    {
     "name": "stdout",
     "output_type": "stream",
     "text": [
      "<a href=\"http://www.j-archive.com/media/2004-12-31_DJ_23.mp3\">Beyond ovoid abandonment, beyond ovoid betrayal... you won't believe the ending when he \"Hatches the Egg\"</a>\n",
      "The shorter glass seen <a href=\"http://www.j-archive.com/media/2004-12-31_DJ_12.jpg\" target=\"_blank\">here</a>, or a quaint cocktail made with sugar & bitters\n",
      "<a href=\"http://www.j-archive.com/media/2004-12-31_DJ_26.mp3\">Ripped from today's headlines, he was a turtle king gone mad; Mack was the one good turtle who'd bring him down</a>\n",
      "<a href=\"http://www.j-archive.com/media/2004-12-31_DJ_25.mp3\">Somewhere between truth & fiction lies Marco's reality... on Halloween, you won't believe you saw it on this St.</a>\n",
      "<a href=\"http://www.j-archive.com/media/2004-12-31_DJ_24.mp3\">\"500 Hats\"... 500 ways to die.  On July 4th, this young boy will defy a king... & become a legend</a>\n"
     ]
    }
   ],
   "source": [
    "# Print 5 examples for 'archive'\n",
    "print_n_examples_for_term('archive', 5)"
   ]
  },
  {
   "cell_type": "code",
   "execution_count": 41,
   "metadata": {},
   "outputs": [
    {
     "name": "stdout",
     "output_type": "stream",
     "text": [
      "The shorter glass seen <a href=\"http://www.j-archive.com/media/2004-12-31_DJ_12.jpg\" target=\"_blank\">here</a>, or a quaint cocktail made with sugar & bitters\n",
      "Say the name of <a href=\"http://www.j-archive.com/media/2010-07-06_DJ_26.jpg\" target=\"_blank\">this</a> type of mollusk you see\n",
      "Say <a href=\"http://www.j-archive.com/media/2010-07-06_DJ_27.jpg\" target=\"_blank\">this</a> state that was admitted to the Union in 1859\n",
      "<a href=\"http://www.j-archive.com/media/2010-07-06_DJ_14.jpg\" target=\"_blank\">This dog breed seen here</a> is a loyal and protective companion\n",
      "Say the name of <a href=\"http://www.j-archive.com/media/2010-07-06_DJ_28.jpg\" target=\"_blank\">this</a> bug; don't worry, it doesn't breathe fire\n"
     ]
    }
   ],
   "source": [
    "# Print 5 examples for '_blank'\n",
    "print_n_examples_for_term('_blank', 5)"
   ]
  },
  {
   "cell_type": "code",
   "execution_count": 42,
   "metadata": {},
   "outputs": [
    {
     "name": "stdout",
     "output_type": "stream",
     "text": [
      "The shorter glass seen <a href=\"http://www.j-archive.com/media/2004-12-31_DJ_12.jpg\" target=\"_blank\">here</a>, or a quaint cocktail made with sugar & bitters\n",
      "Say the name of <a href=\"http://www.j-archive.com/media/2010-07-06_DJ_26.jpg\" target=\"_blank\">this</a> type of mollusk you see\n",
      "Say <a href=\"http://www.j-archive.com/media/2010-07-06_DJ_27.jpg\" target=\"_blank\">this</a> state that was admitted to the Union in 1859\n",
      "<a href=\"http://www.j-archive.com/media/2010-07-06_DJ_14.jpg\" target=\"_blank\">This dog breed seen here</a> is a loyal and protective companion\n",
      "Say the name of <a href=\"http://www.j-archive.com/media/2010-07-06_DJ_28.jpg\" target=\"_blank\">this</a> bug; don't worry, it doesn't breathe fire\n"
     ]
    }
   ],
   "source": [
    "# Print 5 examples for '_blank'\n",
    "print_n_examples_for_term('target', 5)"
   ]
  },
  {
   "cell_type": "code",
   "execution_count": 43,
   "metadata": {},
   "outputs": [
    {
     "name": "stdout",
     "output_type": "stream",
     "text": [
      "Africa's lowest temperature was 11 degrees below zero in 1935 at Ifrane, just south of Fez in this country\n",
      "Cross-country skiing is sometimes referred to by these 2 letters, the same ones used to denote 90 in Roman numerals\n",
      "Parts of the Arabian and Libyan deserts are found in this African country\n",
      "A 7.0 magnitude earthquake in this Caribbean country Jan. 12, 2010 brought a world outpouring of aid\n",
      "Andy Garcia is a native of this country whose flag is seen here\n",
      "This Mediterranean country whose flag is seen here is \"The Word\"\n",
      "Porfirio Diaz seized power in this country in 1876, ruled for 35 years, fled in 1911 & died in exile\n",
      "Exiled for manslaughter, Eric the Red was forced to leave this country around 981\n",
      "Moshoeshoe II was exiled twice before regaining this southern African country's throne in 1995\n",
      "Under the 1814 Treaty of Kiel, this country gave Norway to Sweden but kept Greenland & other islands\n"
     ]
    }
   ],
   "source": [
    "# Print 10 examples for 'country'\n",
    "print_n_examples_for_term('country', 10)"
   ]
  },
  {
   "cell_type": "code",
   "execution_count": 44,
   "metadata": {},
   "outputs": [
    {
     "name": "stdout",
     "output_type": "stream",
     "text": [
      "Signer of the Dec. of Indep., framer of the Constitution of Mass., second President of the United States\n",
      "His first act after being sworn in as president of the Confederacy was to send a peace commission to Washington, D.C.\n",
      "In the midst of the Korean War, this South Korean president was elected to his second of 4 terms\n",
      "Its headquarters compound in Langley, Virginia is named for Former President George Bush\n",
      "This president's 1972 visit to China inspired an opera that played at the Kennedy Center in 1988\n",
      "This political satire starred John Travolta as a Southern governor running for president\n",
      "If a president is impeached, this official presides over the trial in the Senate\n",
      "On January 20, 1965 he was inaugurated as U.S. vice president\n",
      "Gerald Ford was the last president born under this \"crab\"by sign\n",
      "In 1976 this current president of France founded the Rally for the Republic Party\n"
     ]
    }
   ],
   "source": [
    "# Print 10 examples for 'president'\n",
    "print_n_examples_for_term('president', 10)"
   ]
  },
  {
   "cell_type": "markdown",
   "metadata": {},
   "source": [
    "What we can observe:\n",
    "* that the most-used terms 'archive', '\\_blank' and 'target' are not really terms used in questions. Rather, many questions contain hyperlinks that include these terms\n",
    "* if we check frequently used terms like 'country' and 'president', we see all different questions.\n",
    "\n",
    "The value of this 2nd observation must be discounted though. These are the first examples for each row chronologically, and it would of course be better to check for examples that are years apart.\n",
    "\n",
    "For what we have seen though, this does not help us that much with finding a study strategy for Jeopardy."
   ]
  },
  {
   "cell_type": "markdown",
   "metadata": {},
   "source": [
    "## 3.3 Terms used in high-value questions\n",
    "\n",
    "Let's check if there are any particular terms that appear significantly more in high-value questions.\n",
    "\n",
    "We will do the following, for multiple popular terms: \n",
    "* check how many times this term appears in low-value questions (<= 800) vs high-value questions (>800)\n",
    "* do a chi-squared test if that ratio is realistic given expectations of overall low-value vs high-value questions\n",
    "\n",
    "Let me explain in layman's terms how that works. Suppose that 30% of all Jeopardy questions are low-value questions and 70% are high-value questions. Now we are going to check for all questions that contains the term 'president'. Then we have an expectation that also for those, the ratio is 30% / 70%. If you find 29% / 71%: sounds still reasonable. If you find 10% / 90%: that looks suspicious though. With a chi-squared test one can calculate how likely such an observation still is under the hypothesis that the expected distribution is 30% / 70%. If that likelihood is very small (e.g. smaller than 5%) we reject the idea that the outcome is a mere coincidence, and conclude that the term 'president' is truly under- or over-represented (which one depends on the observation) in the high-value questions.\n",
    "\n",
    "For more background about chi-squared tests, refer to the internet, there are many descriptions. Here is [one example](https://www.ling.upenn.edu/~clight/chisquared.htm).\n",
    "\n",
    "So the null-hypothesis is \"The term <.....> is not over- or under-represented in high-value questions\". "
   ]
  },
  {
   "cell_type": "code",
   "execution_count": 45,
   "metadata": {},
   "outputs": [
    {
     "name": "stdout",
     "output_type": "stream",
     "text": [
      "155508 61422 216930 0.7168579726178952 0.2831420273821048\n"
     ]
    }
   ],
   "source": [
    "# Get overall numbers of low_value and high_value questions\n",
    "low_value_max = 800\n",
    "\n",
    "low_value_count = len(jeopardy[jeopardy['value_clean']<=800])\n",
    "high_value_count = len(jeopardy[jeopardy['value_clean']> 800])\n",
    "\n",
    "low_value_fraction = low_value_count / (low_value_count + high_value_count)\n",
    "high_value_fraction = high_value_count / (low_value_count + high_value_count)\n",
    "\n",
    "print(low_value_count, high_value_count, low_value_count + high_value_count, low_value_fraction, high_value_fraction)\n",
    "                               "
   ]
  },
  {
   "cell_type": "code",
   "execution_count": 46,
   "metadata": {},
   "outputs": [],
   "source": [
    "# Create a function that gets a term and returns how frequently it occurs in low-value and high-value questions\n",
    "\n",
    "def return_low_high (term):\n",
    "    low_count = 0\n",
    "    high_count = 0\n",
    "    for i, row in jeopardy.iterrows():\n",
    "        split_question = row['question_clean'].split()\n",
    "        split_question = [word for word in split_question if len(word) >5]\n",
    "        # print(split_question) # commented out after verifying\n",
    "        if term in split_question:\n",
    "            # print(split_question, row['value_clean']) # commented out after verifying\n",
    "            if row['value_clean'] <= 800:\n",
    "                low_count += 1\n",
    "            if row['value_clean'] > 800:\n",
    "                high_count +=1\n",
    "    return low_count, high_count\n",
    "    "
   ]
  },
  {
   "cell_type": "code",
   "execution_count": 47,
   "metadata": {},
   "outputs": [
    {
     "name": "stdout",
     "output_type": "stream",
     "text": [
      "32 7\n"
     ]
    }
   ],
   "source": [
    "# Test the function on th term 'galileo'\n",
    "test_term_1 = 'galileo'\n",
    "\n",
    "a, b = return_low_high(test_term_1)\n",
    "print (a,b)\n"
   ]
  },
  {
   "cell_type": "code",
   "execution_count": 48,
   "metadata": {},
   "outputs": [
    {
     "name": "stdout",
     "output_type": "stream",
     "text": [
      "2297 883 3180\n"
     ]
    }
   ],
   "source": [
    "# Test the function on the term 'president'\n",
    "test_term_1 = 'president'\n",
    "\n",
    "a, b = return_low_high(test_term_1)\n",
    "print (a,b, a+b)"
   ]
  },
  {
   "cell_type": "markdown",
   "metadata": {},
   "source": [
    "For 'president' one would initially expect a total of 3294 as that is the count we had for 'president' in our dictionary. One explanation can be that the term 'president' appeared more than once in some questions. For the dictionary each of them was counted. On this occassion, we count questions that contain the term 'president', regardless how many times the word is in that question.\n",
    "\n",
    "I did not check whether this explains indeed. Rather, I conclude that the functions seems to work, so let's apply it to a couple of popular terms. "
   ]
  },
  {
   "cell_type": "code",
   "execution_count": 49,
   "metadata": {},
   "outputs": [],
   "source": [
    "# Select popular terms that are used in questions a lot\n",
    "popular_terms = ['country','president','american', 'capital', 'island']\n",
    "\n",
    "# For those terms, calculate how many times it appears in low-value and high-value questions. Story in a dictionary.\n",
    "popular_terms_low_high = {}\n",
    "for term in popular_terms:\n",
    "    popular_terms_low_high[term] = return_low_high(term)\n"
   ]
  },
  {
   "cell_type": "code",
   "execution_count": 50,
   "metadata": {},
   "outputs": [
    {
     "data": {
      "text/plain": [
       "{'country': (4332, 1647),\n",
       " 'president': (2297, 883),\n",
       " 'american': (2115, 1053),\n",
       " 'capital': (1988, 797),\n",
       " 'island': (1665, 770)}"
      ]
     },
     "execution_count": 50,
     "metadata": {},
     "output_type": "execute_result"
    }
   ],
   "source": [
    "# Show the result\n",
    "popular_terms_low_high"
   ]
  },
  {
   "cell_type": "markdown",
   "metadata": {},
   "source": [
    "So for each of these terms we can now do a chi-squared test to figure out if these counts are significantly different than what one could expect.\n",
    "\n",
    "Let's first do a quick round for the term 'country', then do it for all terms in a more structured way."
   ]
  },
  {
   "cell_type": "code",
   "execution_count": 51,
   "metadata": {},
   "outputs": [
    {
     "name": "stdout",
     "output_type": "stream",
     "text": [
      "4286.093818282396 1692.9061817176046\n"
     ]
    }
   ],
   "source": [
    "# Calculated expected values for 'country' and print them\n",
    "country_expected_low = low_value_fraction * (4332 + 1647)\n",
    "country_expected_high = high_value_fraction * (4332 + 1647)\n",
    "print(country_expected_low, country_expected_high)"
   ]
  },
  {
   "cell_type": "code",
   "execution_count": 52,
   "metadata": {},
   "outputs": [
    {
     "name": "stdout",
     "output_type": "stream",
     "text": [
      "1.7365061769211498 0.18758212679269415\n"
     ]
    }
   ],
   "source": [
    "# Import chisquare test from library\n",
    "from scipy.stats import chisquare\n",
    "\n",
    "# Execute chisquared test for 'country'\n",
    "observed = np.array([4332, 1647])\n",
    "expected = np.array([country_expected_low, country_expected_high])\n",
    "chisquare_value, pvalue = chisquare(observed, expected) # returns a list\n",
    "\n",
    "# Print result\n",
    "print(chisquare_value,pvalue)"
   ]
  },
  {
   "cell_type": "markdown",
   "metadata": {},
   "source": [
    "Now let's do this for all popular terms that we selected in the same way, and print the results in a readable way."
   ]
  },
  {
   "cell_type": "code",
   "execution_count": 53,
   "metadata": {},
   "outputs": [
    {
     "name": "stdout",
     "output_type": "stream",
     "text": [
      "Term: country\n",
      "Observed (low/high): 4332 1647 72.5% 27.5%\n",
      "Expected (low/high): 4286.1 1692.9 71.7% 28.3%\n",
      "P-value: 0.18758212679269415\n",
      "In words: the probability of the null-hypothesis that the term country is not over- or underrepresented in high-value questions is 0.18758212679269415\n",
      "\n",
      "\n",
      "Term: president\n",
      "Observed (low/high): 2297 883 72.2% 27.8%\n",
      "Expected (low/high): 2279.6 900.4 71.7% 28.3%\n",
      "P-value: 0.49362469359700045\n",
      "In words: the probability of the null-hypothesis that the term president is not over- or underrepresented in high-value questions is 0.49362469359700045\n",
      "\n",
      "\n",
      "Term: american\n",
      "Observed (low/high): 2115 1053 66.8% 33.2%\n",
      "Expected (low/high): 2271.0 897.0 71.7% 28.3%\n",
      "P-value: 7.641747011862597e-10\n",
      "In words: the probability of the null-hypothesis that the term american is not over- or underrepresented in high-value questions is 7.641747011862597e-10\n",
      "\n",
      "\n",
      "Term: capital\n",
      "Observed (low/high): 1988 797 71.4% 28.6%\n",
      "Expected (low/high): 1996.4 788.6 71.7% 28.3%\n",
      "P-value: 0.722302281221693\n",
      "In words: the probability of the null-hypothesis that the term capital is not over- or underrepresented in high-value questions is 0.722302281221693\n",
      "\n",
      "\n",
      "Term: island\n",
      "Observed (low/high): 1665 770 68.4% 31.6%\n",
      "Expected (low/high): 1745.5 689.5 71.7% 28.3%\n",
      "P-value: 0.000290975819901636\n",
      "In words: the probability of the null-hypothesis that the term island is not over- or underrepresented in high-value questions is 0.000290975819901636\n",
      "\n",
      "\n"
     ]
    }
   ],
   "source": [
    "# For all selected popular terms, perform a chi-squared test and present the results in a readable format\n",
    "for term in popular_terms:\n",
    "    observed_low = popular_terms_low_high[term][0]\n",
    "    observed_high = popular_terms_low_high[term][1]\n",
    "    observed_total = observed_low + observed_high\n",
    "    expected_low = low_value_fraction * (observed_total)\n",
    "    expected_high = high_value_fraction * (observed_total)\n",
    "    print('Term:', term)\n",
    "    print('Observed (low/high):', observed_low, observed_high, \"{:.1%} {:.1%}\".format(observed_low/observed_total, observed_high/observed_total))\n",
    "    print('Expected (low/high):', round(expected_low,1), round(expected_high,1), \"{:.1%} {:.1%}\".format(expected_low/observed_total, expected_high/observed_total)) \n",
    "    observed = np.array([observed_low, observed_high])\n",
    "    expected = np.array([expected_low, expected_high])\n",
    "    chisquare_value, pvalue = chisquare(observed, expected) # returns a list\n",
    "    print('P-value:', pvalue)\n",
    "    print('In words: the probability of the null-hypothesis that the term', term, 'is not over- or underrepresented in high-value questions is', pvalue)\n",
    "    print('\\n')\n",
    "    \n",
    "\n",
    "    "
   ]
  },
  {
   "cell_type": "markdown",
   "metadata": {},
   "source": [
    "Observations:\n",
    "* For 'american' and 'island' we see a probability of almost zero that the observed numbers are a mere coincidence. Looking at the numbers, one can state that for these terms there is a significant **over**representation in high-value questions\n",
    "* For 'country', 'president' and 'capital' there is some over-or under-representation as well, but there is not sufficient evidence (likelihood) that that is not by chance.\n",
    "\n",
    "So we could give some advice now: study things that are 'american' or relate to 'islands'. It is questionable though whether this will really help."
   ]
  },
  {
   "cell_type": "markdown",
   "metadata": {},
   "source": [
    "## 4. Conclusions\n",
    "\n",
    "We started with the question whether from the analysis of questions-and-answers from the past, we can give advice about how to prepare if you are going to participate in Jeopardy. And saw the following:\n",
    "* Expecting to find the answers of questions within the question themselves is not a viable strategy. If there are words in the question that are also part of the answer at all (which doesn't happen a lot in the first place), that is not going to help.\n",
    "* Almost all terms in questions (longer than 5 characters) have appeared before in questions. However, there are really a lot of 'popular' terms, and when looking at some examples this did not mean that the questions were repeated. \n",
    "* There appear to be popular terms that are (statistically significant) used relatively a lot in high-value questions.\n",
    "\n",
    "It is very hard to defend though that any of this knowledge is going to help you prepare for Jeopardy a lot.\n",
    "\n",
    "One could certainly analyze more, e.g.:\n",
    "* Play with the functions developed in this notebook, e.g. to detect more terms that are overrepresented in high-value questions.\n",
    "* Do more thorough analysis. E.g. when comparing with history, only look at the past couple of years rather than to more than 20 years. Or look at combinations of terms rather than individual ones in questions.\n",
    "* Do an analysis using the 'Category' column (that we ignored so far).\n",
    "\n",
    "That's fun doing! If your goal is to prepare for Jeopardy though, I doubt though whether this is a good investment of your time, given what we saw so far. You may better just study general knowledge instead!"
   ]
  }
 ],
 "metadata": {
  "kernelspec": {
   "display_name": "Python 3",
   "language": "python",
   "name": "python3"
  },
  "language_info": {
   "codemirror_mode": {
    "name": "ipython",
    "version": 3
   },
   "file_extension": ".py",
   "mimetype": "text/x-python",
   "name": "python",
   "nbconvert_exporter": "python",
   "pygments_lexer": "ipython3",
   "version": "3.7.4"
  }
 },
 "nbformat": 4,
 "nbformat_minor": 2
}
